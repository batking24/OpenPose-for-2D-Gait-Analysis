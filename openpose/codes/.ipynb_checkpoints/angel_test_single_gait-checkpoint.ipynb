{
 "cells": [
  {
   "cell_type": "code",
   "execution_count": 1,
   "id": "e10d3042",
   "metadata": {
    "ExecuteTime": {
     "end_time": "2022-10-13T13:22:39.797833Z",
     "start_time": "2022-10-13T13:22:39.782560Z"
    }
   },
   "outputs": [],
   "source": [
    "edges = {(0, 1), (0, 15), (0, 16), (1, 2), (1, 5), (1, 8), (2, 3), (3, 4), (5, 6), (6, 7), (8, 9), (8, 12), (9, 10), (10, 11), (11, 22), (11, 24), (12, 13), (13, 14), (14, 19), (14, 21), (15, 17), (16, 18), (19, 20), (22, 23)}"
   ]
  },
  {
   "cell_type": "markdown",
   "id": "2f33c53f",
   "metadata": {},
   "source": [
    "# angle analysis`"
   ]
  },
  {
   "cell_type": "code",
   "execution_count": 2,
   "id": "31b37e1b",
   "metadata": {
    "ExecuteTime": {
     "end_time": "2022-10-13T13:22:39.813806Z",
     "start_time": "2022-10-13T13:22:39.800804Z"
    }
   },
   "outputs": [],
   "source": [
    "import math\n",
    "import json"
   ]
  },
  {
   "cell_type": "code",
   "execution_count": 3,
   "id": "a3990f81",
   "metadata": {
    "ExecuteTime": {
     "end_time": "2022-10-13T13:22:39.828947Z",
     "start_time": "2022-10-13T13:22:39.816934Z"
    }
   },
   "outputs": [
    {
     "name": "stdout",
     "output_type": "stream",
     "text": [
      "Path at terminal when executing this file\n",
      "C:\\Users\\bathi\\Desktop\\deep learning\\tray\\open pose installations demo\\openpose\\codes\n",
      "\n"
     ]
    }
   ],
   "source": [
    "import os\n",
    "\n",
    "print(\"Path at terminal when executing this file\")\n",
    "print(os.getcwd() + \"\\n\")\n"
   ]
  },
  {
   "cell_type": "code",
   "execution_count": 4,
   "id": "9f918673",
   "metadata": {
    "ExecuteTime": {
     "end_time": "2022-10-13T13:22:39.844928Z",
     "start_time": "2022-10-13T13:22:39.832932Z"
    }
   },
   "outputs": [],
   "source": [
    "import os\n",
    "os.chdir('../output_jsons/normal_walk_output.json/')\n",
    "# dir=os.getcwd\n",
    "# print(dir)"
   ]
  },
  {
   "cell_type": "code",
   "execution_count": null,
   "id": "87146802",
   "metadata": {},
   "outputs": [],
   "source": []
  },
  {
   "cell_type": "code",
   "execution_count": 5,
   "id": "4df91ba4",
   "metadata": {
    "ExecuteTime": {
     "end_time": "2022-10-13T13:22:39.860928Z",
     "start_time": "2022-10-13T13:22:39.847928Z"
    }
   },
   "outputs": [],
   "source": [
    "def get_angle(edge1,  edge2):\n",
    "    assert tuple(sorted(edge1)) in edges\n",
    "    assert tuple(sorted(edge2)) in edges\n",
    "    edge1 = set(edge1)\n",
    "    edge2 = set(edge2)\n",
    "    mid_point = edge1.intersection(edge2).pop()\n",
    "    a = (edge1-edge2).pop()\n",
    "    b = (edge2-edge1).pop()\n",
    "    v1 = points[mid_point]-points[a]\n",
    "    v2 = points[mid_point]-points[b]\n",
    "\n",
    "    angle = (math.degrees(np.arccos(np.dot(v1,v2)\n",
    "                                    /(np.linalg.norm(v1)*np.linalg.norm(v2)))))\n",
    "    return angle"
   ]
  },
  {
   "cell_type": "code",
   "execution_count": 6,
   "id": "354a0274",
   "metadata": {
    "ExecuteTime": {
     "end_time": "2022-10-13T13:22:39.876484Z",
     "start_time": "2022-10-13T13:22:39.863939Z"
    }
   },
   "outputs": [],
   "source": [
    "def get_oriented_angle(edge1,  edge2):    \n",
    "    assert tuple(sorted(edge1)) in edges\n",
    "    assert tuple(sorted(edge2)) in edges\n",
    "    \n",
    "    v1 = points[edge1[0]]-points[edge1[1]]\n",
    "    v2 = points[edge2[0]]-points[edge2[1]]\n",
    "    angle = (math.degrees(np.arccos(np.dot(v1,v2)   \n",
    "                              /(np.linalg.norm(v1)*np.linalg.norm(v2)))))\n",
    "    return angle"
   ]
  },
  {
   "cell_type": "code",
   "execution_count": 7,
   "id": "510d51a4",
   "metadata": {
    "ExecuteTime": {
     "end_time": "2022-10-13T13:22:39.892486Z",
     "start_time": "2022-10-13T13:22:39.880480Z"
    }
   },
   "outputs": [],
   "source": [
    "# print(\"normal_walk_000000000000_keypoints.json\")\n",
    "# print(os.path=(path_str))"
   ]
  },
  {
   "cell_type": "code",
   "execution_count": 33,
   "id": "5346685f",
   "metadata": {
    "ExecuteTime": {
     "end_time": "2022-10-13T13:30:33.964783Z",
     "start_time": "2022-10-13T13:30:33.561469Z"
    }
   },
   "outputs": [
    {
     "name": "stdout",
     "output_type": "stream",
     "text": [
      "single_gait_000000000000_keypoints.json\n",
      "True\n",
      "00\n",
      "1\n",
      "single_gait_000000000001_keypoints.json\n",
      "00\n",
      "2\n",
      "single_gait_000000000002_keypoints.json\n",
      "00\n",
      "3\n",
      "single_gait_000000000003_keypoints.json\n",
      "00\n",
      "4\n",
      "single_gait_000000000004_keypoints.json\n",
      "00\n",
      "5\n",
      "single_gait_000000000005_keypoints.json\n",
      "00\n",
      "6\n",
      "single_gait_000000000006_keypoints.json\n",
      "00\n",
      "7\n",
      "single_gait_000000000007_keypoints.json\n",
      "00\n",
      "8\n",
      "single_gait_000000000008_keypoints.json\n",
      "00\n",
      "9\n",
      "single_gait_000000000009_keypoints.json\n",
      "0\n",
      "10\n",
      "single_gait_000000000010_keypoints.json\n",
      "0\n",
      "11\n",
      "single_gait_000000000011_keypoints.json\n",
      "0\n",
      "12\n",
      "single_gait_000000000012_keypoints.json\n",
      "0\n",
      "13\n",
      "single_gait_000000000013_keypoints.json\n",
      "0\n",
      "14\n",
      "single_gait_000000000014_keypoints.json\n",
      "0\n",
      "15\n",
      "single_gait_000000000015_keypoints.json\n",
      "0\n",
      "16\n",
      "single_gait_000000000016_keypoints.json\n",
      "0\n",
      "17\n",
      "single_gait_000000000017_keypoints.json\n",
      "0\n",
      "18\n",
      "single_gait_000000000018_keypoints.json\n",
      "0\n",
      "19\n",
      "single_gait_000000000019_keypoints.json\n",
      "0\n",
      "20\n",
      "single_gait_000000000020_keypoints.json\n",
      "0\n",
      "21\n",
      "single_gait_000000000021_keypoints.json\n",
      "0\n",
      "22\n",
      "single_gait_000000000022_keypoints.json\n",
      "0\n",
      "23\n",
      "single_gait_000000000023_keypoints.json\n",
      "0\n",
      "24\n",
      "single_gait_000000000024_keypoints.json\n",
      "0\n",
      "25\n",
      "single_gait_000000000025_keypoints.json\n",
      "0\n",
      "26\n",
      "single_gait_000000000026_keypoints.json\n",
      "0\n",
      "27\n",
      "single_gait_000000000027_keypoints.json\n",
      "0\n",
      "28\n",
      "single_gait_000000000028_keypoints.json\n",
      "0\n",
      "29\n",
      "single_gait_000000000029_keypoints.json\n",
      "0\n",
      "30\n",
      "single_gait_000000000030_keypoints.json\n",
      "0\n",
      "31\n",
      "single_gait_000000000031_keypoints.json\n",
      "0\n",
      "32\n",
      "single_gait_000000000032_keypoints.json\n",
      "0\n",
      "33\n",
      "single_gait_000000000033_keypoints.json\n",
      "0\n",
      "34\n",
      "single_gait_000000000034_keypoints.json\n",
      "0\n",
      "35\n",
      "single_gait_000000000035_keypoints.json\n",
      "0\n",
      "36\n",
      "single_gait_000000000036_keypoints.json\n",
      "0\n",
      "37\n",
      "single_gait_000000000037_keypoints.json\n",
      "0\n",
      "38\n",
      "single_gait_000000000038_keypoints.json\n",
      "0\n",
      "39\n",
      "single_gait_000000000039_keypoints.json\n",
      "0\n",
      "40\n",
      "single_gait_000000000040_keypoints.json\n",
      "0\n",
      "41\n",
      "single_gait_000000000041_keypoints.json\n",
      "0\n",
      "42\n",
      "single_gait_000000000042_keypoints.json\n",
      "0\n",
      "43\n",
      "single_gait_000000000043_keypoints.json\n",
      "0\n",
      "44\n",
      "single_gait_000000000044_keypoints.json\n",
      "0\n",
      "45\n",
      "single_gait_000000000045_keypoints.json\n",
      "0\n",
      "46\n",
      "single_gait_000000000046_keypoints.json\n",
      "0\n",
      "47\n",
      "single_gait_000000000047_keypoints.json\n",
      "0\n",
      "48\n",
      "single_gait_000000000048_keypoints.json\n",
      "0\n",
      "49\n",
      "single_gait_000000000049_keypoints.json\n",
      "0\n",
      "50\n",
      "single_gait_000000000050_keypoints.json\n",
      "0\n",
      "51\n",
      "single_gait_000000000051_keypoints.json\n",
      "0\n",
      "52\n",
      "single_gait_000000000052_keypoints.json\n",
      "0\n",
      "53\n",
      "single_gait_000000000053_keypoints.json\n",
      "0\n",
      "54\n",
      "single_gait_000000000054_keypoints.json\n",
      "0\n",
      "55\n",
      "single_gait_000000000055_keypoints.json\n",
      "0\n",
      "56\n",
      "single_gait_000000000056_keypoints.json\n",
      "0\n",
      "57\n",
      "single_gait_000000000057_keypoints.json\n",
      "0\n",
      "58\n",
      "single_gait_000000000058_keypoints.json\n",
      "0\n",
      "59\n",
      "single_gait_000000000059_keypoints.json\n",
      "0\n",
      "60\n",
      "single_gait_000000000060_keypoints.json\n",
      "0\n",
      "61\n",
      "single_gait_000000000061_keypoints.json\n",
      "0\n",
      "62\n",
      "single_gait_000000000062_keypoints.json\n",
      "0\n",
      "63\n",
      "single_gait_000000000063_keypoints.json\n",
      "0\n",
      "64\n",
      "single_gait_000000000064_keypoints.json\n",
      "0\n",
      "65\n",
      "single_gait_000000000065_keypoints.json\n",
      "0\n",
      "66\n",
      "single_gait_000000000066_keypoints.json\n",
      "0\n",
      "67\n",
      "single_gait_000000000067_keypoints.json\n",
      "0\n",
      "68\n",
      "single_gait_000000000068_keypoints.json\n",
      "0\n",
      "69\n",
      "single_gait_000000000069_keypoints.json\n",
      "0\n",
      "70\n",
      "single_gait_000000000070_keypoints.json\n",
      "0\n",
      "71\n",
      "single_gait_000000000071_keypoints.json\n",
      "0\n",
      "72\n",
      "single_gait_000000000072_keypoints.json\n",
      "0\n",
      "73\n",
      "single_gait_000000000073_keypoints.json\n",
      "0\n",
      "74\n",
      "single_gait_000000000074_keypoints.json\n",
      "0\n",
      "75\n",
      "single_gait_000000000075_keypoints.json\n",
      "0\n",
      "76\n",
      "single_gait_000000000076_keypoints.json\n",
      "0\n",
      "77\n",
      "single_gait_000000000077_keypoints.json\n",
      "0\n",
      "78\n",
      "single_gait_000000000078_keypoints.json\n",
      "0\n",
      "79\n",
      "single_gait_000000000079_keypoints.json\n",
      "0\n",
      "80\n",
      "single_gait_000000000080_keypoints.json\n",
      "0\n",
      "81\n",
      "single_gait_000000000081_keypoints.json\n",
      "0\n",
      "82\n",
      "single_gait_000000000082_keypoints.json\n",
      "0\n",
      "83\n",
      "single_gait_000000000083_keypoints.json\n",
      "0\n",
      "84\n",
      "single_gait_000000000084_keypoints.json\n",
      "0\n",
      "85\n",
      "single_gait_000000000085_keypoints.json\n",
      "0\n",
      "86\n",
      "single_gait_000000000086_keypoints.json\n",
      "0\n",
      "87\n",
      "single_gait_000000000087_keypoints.json\n",
      "0\n",
      "88\n",
      "single_gait_000000000088_keypoints.json\n",
      "0\n",
      "89\n",
      "single_gait_000000000089_keypoints.json\n",
      "0\n",
      "90\n",
      "single_gait_000000000090_keypoints.json\n",
      "0\n",
      "91\n",
      "single_gait_000000000091_keypoints.json\n",
      "0\n",
      "92\n",
      "single_gait_000000000092_keypoints.json\n",
      "0\n",
      "93\n",
      "single_gait_000000000093_keypoints.json\n",
      "0\n",
      "94\n",
      "single_gait_000000000094_keypoints.json\n",
      "0\n",
      "95\n",
      "single_gait_000000000095_keypoints.json\n",
      "0\n",
      "96\n",
      "single_gait_000000000096_keypoints.json\n",
      "0\n",
      "97\n",
      "single_gait_000000000097_keypoints.json\n",
      "0\n",
      "98\n",
      "single_gait_000000000098_keypoints.json\n",
      "0\n",
      "99\n",
      "single_gait_000000000099_keypoints.json\n",
      "\n",
      "100\n",
      "single_gait_000000000100_keypoints.json\n",
      "\n",
      "101\n",
      "single_gait_000000000101_keypoints.json\n",
      "\n",
      "102\n",
      "single_gait_000000000102_keypoints.json\n",
      "\n",
      "103\n",
      "single_gait_000000000103_keypoints.json\n",
      "\n",
      "104\n",
      "single_gait_000000000104_keypoints.json\n",
      "\n",
      "105\n",
      "single_gait_000000000105_keypoints.json\n",
      "\n",
      "106\n",
      "single_gait_000000000106_keypoints.json\n",
      "\n",
      "107\n",
      "single_gait_000000000107_keypoints.json\n",
      "\n",
      "108\n",
      "single_gait_000000000108_keypoints.json\n",
      "\n",
      "109\n",
      "single_gait_000000000109_keypoints.json\n",
      "\n",
      "110\n",
      "single_gait_000000000110_keypoints.json\n",
      "\n",
      "111\n",
      "single_gait_000000000111_keypoints.json\n",
      "\n",
      "112\n",
      "single_gait_000000000112_keypoints.json\n",
      "\n",
      "113\n",
      "single_gait_000000000113_keypoints.json\n",
      "\n",
      "114\n",
      "single_gait_000000000114_keypoints.json\n",
      "\n",
      "115\n",
      "single_gait_000000000115_keypoints.json\n",
      "\n",
      "116\n",
      "single_gait_000000000116_keypoints.json\n",
      "\n",
      "117\n",
      "single_gait_000000000117_keypoints.json\n",
      "\n",
      "118\n",
      "single_gait_000000000118_keypoints.json\n",
      "\n",
      "119\n",
      "single_gait_000000000119_keypoints.json\n",
      "\n",
      "120\n",
      "single_gait_000000000120_keypoints.json\n",
      "\n",
      "121\n",
      "single_gait_000000000121_keypoints.json\n",
      "\n",
      "122\n",
      "single_gait_000000000122_keypoints.json\n",
      "\n",
      "123\n",
      "single_gait_000000000123_keypoints.json\n",
      "\n",
      "124\n",
      "single_gait_000000000124_keypoints.json\n",
      "\n",
      "125\n",
      "single_gait_000000000125_keypoints.json\n",
      "\n",
      "126\n",
      "single_gait_000000000126_keypoints.json\n",
      "\n",
      "127\n",
      "single_gait_000000000127_keypoints.json\n",
      "\n",
      "128\n",
      "single_gait_000000000128_keypoints.json\n",
      "\n",
      "129\n",
      "single_gait_000000000129_keypoints.json\n",
      "\n",
      "130\n",
      "single_gait_000000000130_keypoints.json\n",
      "\n",
      "131\n",
      "single_gait_000000000131_keypoints.json\n",
      "\n",
      "132\n",
      "single_gait_000000000132_keypoints.json\n",
      "\n",
      "133\n",
      "single_gait_000000000133_keypoints.json\n",
      "\n",
      "134\n",
      "single_gait_000000000134_keypoints.json\n",
      "\n",
      "135\n",
      "single_gait_000000000135_keypoints.json\n",
      "\n",
      "136\n",
      "single_gait_000000000136_keypoints.json\n",
      "\n",
      "137\n",
      "single_gait_000000000137_keypoints.json\n",
      "\n",
      "138\n",
      "single_gait_000000000138_keypoints.json\n",
      "\n",
      "139\n",
      "single_gait_000000000139_keypoints.json\n",
      "\n",
      "140\n",
      "single_gait_000000000140_keypoints.json\n",
      "\n",
      "141\n",
      "single_gait_000000000141_keypoints.json\n",
      "\n",
      "142\n",
      "single_gait_000000000142_keypoints.json\n",
      "\n",
      "143\n",
      "single_gait_000000000143_keypoints.json\n",
      "\n",
      "144\n",
      "single_gait_000000000144_keypoints.json\n",
      "\n",
      "145\n",
      "single_gait_000000000145_keypoints.json\n",
      "\n",
      "146\n",
      "single_gait_000000000146_keypoints.json\n",
      "\n",
      "147\n",
      "single_gait_000000000147_keypoints.json\n",
      "\n",
      "148\n",
      "single_gait_000000000148_keypoints.json\n",
      "\n",
      "149\n",
      "single_gait_000000000149_keypoints.json\n",
      "\n",
      "150\n",
      "single_gait_000000000150_keypoints.json\n",
      "\n",
      "151\n",
      "single_gait_000000000151_keypoints.json\n",
      "\n",
      "152\n",
      "single_gait_000000000152_keypoints.json\n",
      "\n",
      "153\n",
      "single_gait_000000000153_keypoints.json\n",
      "\n",
      "154\n",
      "single_gait_000000000154_keypoints.json\n",
      "\n",
      "155\n",
      "single_gait_000000000155_keypoints.json\n",
      "\n",
      "156\n",
      "single_gait_000000000156_keypoints.json\n",
      "\n",
      "157\n",
      "single_gait_000000000157_keypoints.json\n",
      "\n",
      "158\n",
      "single_gait_000000000158_keypoints.json\n",
      "\n",
      "159\n",
      "single_gait_000000000159_keypoints.json\n",
      "\n",
      "160\n",
      "single_gait_000000000160_keypoints.json\n",
      "\n",
      "161\n",
      "single_gait_000000000161_keypoints.json\n",
      "\n",
      "162\n",
      "single_gait_000000000162_keypoints.json\n",
      "\n",
      "163\n",
      "single_gait_000000000163_keypoints.json\n",
      "\n",
      "164\n",
      "single_gait_000000000164_keypoints.json\n",
      "\n",
      "165\n",
      "single_gait_000000000165_keypoints.json\n",
      "\n",
      "166\n",
      "single_gait_000000000166_keypoints.json\n",
      "\n",
      "167\n",
      "single_gait_000000000167_keypoints.json\n",
      "\n",
      "168\n",
      "single_gait_000000000168_keypoints.json\n",
      "\n",
      "169\n",
      "single_gait_000000000169_keypoints.json\n",
      "\n",
      "170\n",
      "single_gait_000000000170_keypoints.json\n",
      "\n",
      "171\n",
      "single_gait_000000000171_keypoints.json\n",
      "\n",
      "172\n",
      "single_gait_000000000172_keypoints.json\n",
      "\n",
      "173\n",
      "single_gait_000000000173_keypoints.json\n",
      "\n",
      "174\n",
      "single_gait_000000000174_keypoints.json\n",
      "\n",
      "175\n",
      "single_gait_000000000175_keypoints.json\n",
      "\n",
      "176\n",
      "single_gait_000000000176_keypoints.json\n",
      "\n",
      "177\n",
      "single_gait_000000000177_keypoints.json\n",
      "\n",
      "178\n",
      "single_gait_000000000178_keypoints.json\n",
      "\n",
      "179\n",
      "single_gait_000000000179_keypoints.json\n",
      "\n",
      "180\n",
      "single_gait_000000000180_keypoints.json\n",
      "\n",
      "181\n",
      "single_gait_000000000181_keypoints.json\n",
      "\n",
      "182\n",
      "single_gait_000000000182_keypoints.json\n",
      "\n",
      "183\n",
      "single_gait_000000000183_keypoints.json\n",
      "\n",
      "184\n",
      "single_gait_000000000184_keypoints.json\n",
      "\n",
      "185\n",
      "single_gait_000000000185_keypoints.json\n",
      "\n",
      "186\n",
      "single_gait_000000000186_keypoints.json\n",
      "\n",
      "187\n",
      "single_gait_000000000187_keypoints.json\n",
      "\n",
      "188\n",
      "single_gait_000000000188_keypoints.json\n",
      "\n",
      "189\n",
      "single_gait_000000000189_keypoints.json\n",
      "\n",
      "190\n",
      "single_gait_000000000190_keypoints.json\n",
      "\n",
      "191\n",
      "single_gait_000000000191_keypoints.json\n",
      "\n",
      "192\n",
      "single_gait_000000000192_keypoints.json\n",
      "\n",
      "193\n",
      "single_gait_000000000193_keypoints.json\n",
      "\n",
      "194\n",
      "single_gait_000000000194_keypoints.json\n",
      "\n",
      "195\n",
      "single_gait_000000000195_keypoints.json\n",
      "\n",
      "196\n",
      "single_gait_000000000196_keypoints.json\n",
      "\n",
      "197\n",
      "single_gait_000000000197_keypoints.json\n",
      "\n",
      "198\n",
      "single_gait_000000000198_keypoints.json\n",
      "\n",
      "199\n",
      "single_gait_000000000199_keypoints.json\n",
      "\n",
      "200\n",
      "single_gait_000000000200_keypoints.json\n",
      "\n",
      "201\n",
      "single_gait_000000000201_keypoints.json\n",
      "\n",
      "202\n",
      "single_gait_000000000202_keypoints.json\n",
      "\n",
      "203\n",
      "single_gait_000000000203_keypoints.json\n",
      "\n",
      "204\n",
      "single_gait_000000000204_keypoints.json\n",
      "\n",
      "205\n",
      "single_gait_000000000205_keypoints.json\n",
      "\n",
      "206\n",
      "single_gait_000000000206_keypoints.json\n",
      "\n",
      "207\n",
      "single_gait_000000000207_keypoints.json\n",
      "\n",
      "208\n",
      "single_gait_000000000208_keypoints.json\n",
      "\n",
      "209\n",
      "single_gait_000000000209_keypoints.json\n",
      "\n",
      "210\n",
      "single_gait_000000000210_keypoints.json\n",
      "\n",
      "211\n",
      "single_gait_000000000211_keypoints.json\n",
      "\n",
      "212\n",
      "single_gait_000000000212_keypoints.json\n",
      "\n",
      "213\n",
      "single_gait_000000000213_keypoints.json\n",
      "\n",
      "214\n",
      "single_gait_000000000214_keypoints.json\n",
      "\n",
      "215\n",
      "single_gait_000000000215_keypoints.json\n",
      "\n",
      "216\n",
      "single_gait_000000000216_keypoints.json\n",
      "\n",
      "217\n",
      "single_gait_000000000217_keypoints.json\n",
      "\n",
      "218\n",
      "single_gait_000000000218_keypoints.json\n",
      "\n",
      "219\n",
      "single_gait_000000000219_keypoints.json\n",
      "\n",
      "220\n",
      "single_gait_000000000220_keypoints.json\n",
      "\n",
      "221\n",
      "single_gait_000000000221_keypoints.json\n",
      "\n",
      "222\n",
      "single_gait_000000000222_keypoints.json\n",
      "\n",
      "223\n",
      "single_gait_000000000223_keypoints.json\n",
      "\n",
      "224\n",
      "single_gait_000000000224_keypoints.json\n",
      "\n",
      "225\n",
      "single_gait_000000000225_keypoints.json\n",
      "\n",
      "226\n",
      "single_gait_000000000226_keypoints.json\n",
      "\n",
      "227\n",
      "single_gait_000000000227_keypoints.json\n",
      "\n",
      "228\n",
      "single_gait_000000000228_keypoints.json\n",
      "\n",
      "229\n",
      "single_gait_000000000229_keypoints.json\n",
      "\n",
      "230\n",
      "single_gait_000000000230_keypoints.json\n",
      "\n",
      "231\n",
      "single_gait_000000000231_keypoints.json\n",
      "\n",
      "232\n",
      "single_gait_000000000232_keypoints.json\n",
      "\n",
      "233\n",
      "single_gait_000000000233_keypoints.json\n",
      "\n",
      "234\n",
      "single_gait_000000000234_keypoints.json\n",
      "\n",
      "235\n",
      "single_gait_000000000235_keypoints.json\n",
      "\n",
      "236\n",
      "single_gait_000000000236_keypoints.json\n",
      "\n",
      "237\n",
      "single_gait_000000000237_keypoints.json\n",
      "\n",
      "238\n",
      "single_gait_000000000238_keypoints.json\n",
      "\n",
      "239\n",
      "single_gait_000000000239_keypoints.json\n",
      "\n",
      "240\n",
      "single_gait_000000000240_keypoints.json\n",
      "\n",
      "241\n",
      "single_gait_000000000241_keypoints.json\n",
      "\n",
      "242\n",
      "single_gait_000000000242_keypoints.json\n",
      "\n",
      "243\n",
      "single_gait_000000000243_keypoints.json\n",
      "\n",
      "244\n",
      "single_gait_000000000244_keypoints.json\n",
      "\n",
      "245\n",
      "single_gait_000000000245_keypoints.json\n",
      "\n",
      "246\n",
      "single_gait_000000000246_keypoints.json\n",
      "\n",
      "247\n",
      "single_gait_000000000247_keypoints.json\n",
      "\n",
      "248\n",
      "single_gait_000000000248_keypoints.json\n",
      "\n",
      "249\n",
      "single_gait_000000000249_keypoints.json\n",
      "\n",
      "250\n",
      "single_gait_000000000250_keypoints.json\n",
      "\n",
      "251\n",
      "single_gait_000000000251_keypoints.json\n",
      "\n",
      "252\n",
      "single_gait_000000000252_keypoints.json\n",
      "\n",
      "253\n",
      "single_gait_000000000253_keypoints.json\n",
      "\n",
      "254\n",
      "single_gait_000000000254_keypoints.json\n",
      "\n",
      "255\n",
      "single_gait_000000000255_keypoints.json\n",
      "\n",
      "256\n",
      "single_gait_000000000256_keypoints.json\n",
      "\n",
      "257\n",
      "single_gait_000000000257_keypoints.json\n",
      "\n",
      "258\n",
      "single_gait_000000000258_keypoints.json\n",
      "\n",
      "259\n",
      "single_gait_000000000259_keypoints.json\n",
      "\n",
      "260\n",
      "single_gait_000000000260_keypoints.json\n",
      "\n",
      "261\n",
      "single_gait_000000000261_keypoints.json\n",
      "\n",
      "262\n",
      "single_gait_000000000262_keypoints.json\n",
      "\n",
      "263\n",
      "single_gait_000000000263_keypoints.json\n",
      "\n",
      "264\n",
      "single_gait_000000000264_keypoints.json\n",
      "\n",
      "265\n",
      "single_gait_000000000265_keypoints.json\n",
      "\n",
      "266\n",
      "single_gait_000000000266_keypoints.json\n",
      "\n",
      "267\n",
      "single_gait_000000000267_keypoints.json\n",
      "\n",
      "268\n",
      "single_gait_000000000268_keypoints.json\n",
      "\n",
      "269\n",
      "single_gait_000000000269_keypoints.json\n",
      "\n",
      "270\n",
      "single_gait_000000000270_keypoints.json\n",
      "\n",
      "271\n",
      "single_gait_000000000271_keypoints.json\n",
      "\n",
      "272\n",
      "single_gait_000000000272_keypoints.json\n",
      "\n",
      "273\n",
      "single_gait_000000000273_keypoints.json\n",
      "\n",
      "274\n",
      "single_gait_000000000274_keypoints.json\n",
      "\n",
      "275\n",
      "single_gait_000000000275_keypoints.json\n",
      "\n",
      "276\n",
      "single_gait_000000000276_keypoints.json\n",
      "\n",
      "277\n"
     ]
    },
    {
     "name": "stdout",
     "output_type": "stream",
     "text": [
      "single_gait_000000000277_keypoints.json\n",
      "\n",
      "278\n",
      "single_gait_000000000278_keypoints.json\n"
     ]
    }
   ],
   "source": [
    "i=0\n",
    "leg_angle_list_left=[]\n",
    "leg_angle_list_right=[]\n",
    "ankle_angle_list_left=[]\n",
    "ankle_angle_list_right=[]\n",
    "# i=46\n",
    "zero_str='00'\n",
    "path_str='single_gait_000000000'+zero_str+str(i)+'_keypoints.json'\n",
    "print(path_str)\n",
    "\n",
    "isFile = os.path.isfile(path_str)\n",
    "print(isFile)\n",
    "# os.path.exists(path)\n",
    "while(os.path.isfile(path_str)):\n",
    "# while(i==46):\n",
    "    if(i<9):\n",
    "        zero_str='00'\n",
    "    elif(i>=9 and i<99):\n",
    "        zero_str='0'\n",
    "    elif(i>=99):\n",
    "        zero_str=''\n",
    "    print(zero_str)\n",
    "    i+=1\n",
    "    print(i)\n",
    "    # Opening JSON fill\n",
    "    f = open(path_str)\n",
    "\n",
    "    # returns JSON object as \n",
    "    # a dictionary\n",
    "    data = json.load(f)\n",
    "    points=np.array(data['people'][0]['pose_keypoints_2d']).reshape(-1,3)\n",
    "#     angle_list.append((get_angle((13, 12), (14, 13)),get_angle((10, 9), (11, 10)))) # left knee right knee\n",
    "    leg_angle_list_left.append(get_angle((13, 12),(14, 13))) # left knee right knee\n",
    "#     leg_angle_list_left.append(get_angle((12,13),(13, 14))) # left knee right knee the order does not make any difference\n",
    "    leg_angle_list_right.append(get_angle((10, 9),(11, 10)))\n",
    "    ankle_angle_list_right.append(get_angle((11,22),(10, 11))) # right ankle angle\n",
    "    ankle_angle_list_left.append(get_angle((14,19),(13, 14))) # left ankle angle\n",
    "#     os.path=('single_gait_00000000000'+str(i)+'_keypoints.json')\n",
    "    path_str='single_gait_000000000'+zero_str+str(i)+'_keypoints.json'\n",
    "    print(path_str)\n",
    "    f.close()\n"
   ]
  },
  {
   "cell_type": "code",
   "execution_count": 9,
   "id": "15345b95",
   "metadata": {
    "ExecuteTime": {
     "end_time": "2022-10-13T13:22:40.441988Z",
     "start_time": "2022-10-13T13:22:40.428977Z"
    }
   },
   "outputs": [
    {
     "name": "stdout",
     "output_type": "stream",
     "text": [
      "278\n"
     ]
    }
   ],
   "source": [
    "print(len(leg_angle_list_left))\n",
    "# leg_angle_list_left"
   ]
  },
  {
   "cell_type": "code",
   "execution_count": 19,
   "id": "194a6f7a",
   "metadata": {
    "ExecuteTime": {
     "end_time": "2022-10-13T13:25:56.014286Z",
     "start_time": "2022-10-13T13:25:56.007282Z"
    }
   },
   "outputs": [
    {
     "data": {
      "text/plain": [
       "128.62972318433754"
      ]
     },
     "execution_count": 19,
     "metadata": {},
     "output_type": "execute_result"
    }
   ],
   "source": [
    "leg_angle_list_left[0]"
   ]
  },
  {
   "cell_type": "code",
   "execution_count": 10,
   "id": "cdd82c13",
   "metadata": {
    "ExecuteTime": {
     "end_time": "2022-10-13T13:22:40.458040Z",
     "start_time": "2022-10-13T13:22:40.449019Z"
    }
   },
   "outputs": [],
   "source": [
    "# print(len(angle_list))\n",
    "# angle_list"
   ]
  },
  {
   "cell_type": "code",
   "execution_count": 11,
   "id": "ad3529e4",
   "metadata": {
    "ExecuteTime": {
     "end_time": "2022-10-13T13:22:40.489287Z",
     "start_time": "2022-10-13T13:22:40.462019Z"
    }
   },
   "outputs": [
    {
     "data": {
      "text/plain": [
       "array([  0,   1,   2,   3,   4,   5,   6,   7,   8,   9,  10,  11,  12,\n",
       "        13,  14,  15,  16,  17,  18,  19,  20,  21,  22,  23,  24,  25,\n",
       "        26,  27,  28,  29,  30,  31,  32,  33,  34,  35,  36,  37,  38,\n",
       "        39,  40,  41,  42,  43,  44,  45,  46,  47,  48,  49,  50,  51,\n",
       "        52,  53,  54,  55,  56,  57,  58,  59,  60,  61,  62,  63,  64,\n",
       "        65,  66,  67,  68,  69,  70,  71,  72,  73,  74,  75,  76,  77,\n",
       "        78,  79,  80,  81,  82,  83,  84,  85,  86,  87,  88,  89,  90,\n",
       "        91,  92,  93,  94,  95,  96,  97,  98,  99, 100, 101, 102, 103,\n",
       "       104, 105, 106, 107, 108, 109, 110, 111, 112, 113, 114, 115, 116,\n",
       "       117, 118, 119, 120, 121, 122, 123, 124, 125, 126, 127, 128, 129,\n",
       "       130, 131, 132, 133, 134, 135, 136, 137, 138, 139, 140, 141, 142,\n",
       "       143, 144, 145, 146, 147, 148, 149, 150, 151, 152, 153, 154, 155,\n",
       "       156, 157, 158, 159, 160, 161, 162, 163, 164, 165, 166, 167, 168,\n",
       "       169, 170, 171, 172, 173, 174, 175, 176, 177, 178, 179, 180, 181,\n",
       "       182, 183, 184, 185, 186, 187, 188, 189, 190, 191, 192, 193, 194,\n",
       "       195, 196, 197, 198, 199, 200, 201, 202, 203, 204, 205, 206, 207,\n",
       "       208, 209, 210, 211, 212, 213, 214, 215, 216, 217, 218, 219, 220,\n",
       "       221, 222, 223, 224, 225, 226, 227, 228, 229, 230, 231, 232, 233,\n",
       "       234, 235, 236, 237, 238, 239, 240, 241, 242, 243, 244, 245, 246,\n",
       "       247, 248, 249, 250, 251, 252, 253, 254, 255, 256, 257, 258, 259,\n",
       "       260, 261, 262, 263, 264, 265, 266, 267, 268, 269, 270, 271, 272,\n",
       "       273, 274, 275, 276, 277])"
      ]
     },
     "execution_count": 11,
     "metadata": {},
     "output_type": "execute_result"
    }
   ],
   "source": [
    "i=len(leg_angle_list_left)\n",
    "y_=np.arange(i)\n",
    "y_"
   ]
  },
  {
   "cell_type": "code",
   "execution_count": 200,
   "id": "b087d7bf",
   "metadata": {
    "ExecuteTime": {
     "end_time": "2022-10-13T18:56:39.722072Z",
     "start_time": "2022-10-13T18:56:39.589078Z"
    },
    "scrolled": true
   },
   "outputs": [
    {
     "data": {
      "image/png": "[encoded data removed]",
      "text/plain": [
       "<Figure size 720x720 with 1 Axes>"
      ]
     },
     "metadata": {
      "needs_background": "light"
     },
     "output_type": "display_data"
    }
   ],
   "source": [
    "import matplotlib.pyplot as plt\n",
    "import numpy as np\n",
    "import peakutils\n",
    "# define data values\n",
    "x1 = leg_angle_list_left  # X-axis points\n",
    "x2 = leg_angle_list_right \n",
    "y=y_  # Y-axis points\n",
    "# f = plt.figure()\n",
    "# f.set_figwidth(10)\n",
    "# f.set_figheight(10)\n",
    "negx1 = [ -x for x in x1]\n",
    "index1 = peakutils.indexes(negx1,thres=0.9,min_dist=1)\n",
    "negx2 = [ -x for x in x2]\n",
    "index2 = peakutils.indexes(negx2,thres=0.9,min_dist=1)\n",
    "# print(negx1)\n",
    "plt.figure(figsize=(10,10))\n",
    "plt.plot(x1, y,\"b\", label = \"line 1\") # blue left leg\n",
    "plt.plot(x2, y,\"c\", label = \"line 2\")  # cyan right leg\n",
    "frames_knee_left_leg=[]\n",
    "frames_knee_right_leg=[]\n",
    "for ind in index1:\n",
    "    plt.plot(x1[ind],y[ind], marker=\"o\", ls=\"\", ms=10 )\n",
    "    frames_knee_left_leg.append(y[ind])\n",
    "    \n",
    "for ind in index2:\n",
    "    plt.plot(x2[ind],y[ind], marker=\"o\", ls=\"\", ms=10 )\n",
    "    frames_knee_right_leg.append(y[ind])\n",
    "    \n",
    "# t=frames_right_leg\n",
    "# frames_right_leg=frames_left_leg\n",
    "# frames_left_leg=t"
   ]
  },
  {
   "cell_type": "code",
   "execution_count": 94,
   "id": "2bfc0132",
   "metadata": {
    "ExecuteTime": {
     "end_time": "2022-10-13T16:34:00.135502Z",
     "start_time": "2022-10-13T16:33:59.990508Z"
    }
   },
   "outputs": [
    {
     "data": {
      "image/png": "[encoded data removed]",
      "text/plain": [
       "<Figure size 720x720 with 1 Axes>"
      ]
     },
     "metadata": {
      "needs_background": "light"
     },
     "output_type": "display_data"
    }
   ],
   "source": [
    "import matplotlib.pyplot as plt\n",
    "import numpy as np\n",
    "import peakutils\n",
    "# define data values\n",
    "x1 = ankle_angle_list_left  # X-axis points\n",
    "x2 = ankle_angle_list_right\n",
    "y=y_  # Y-axis points\n",
    "# f = plt.figure()\n",
    "# f.set_figwidth(10)\n",
    "# f.set_figheight(10)\n",
    "negx1 = [ x for x in x1]\n",
    "index1 = peakutils.indexes(negx1,thres=0.9,min_dist=1)\n",
    "negx2 = [ x for x in x2]\n",
    "index2 = peakutils.indexes(negx2,thres=0.66,min_dist=1)\n",
    "# print(negx1)\n",
    "plt.figure(figsize=(10,10))\n",
    "plt.plot(x1, y,\"b\", label = \"line 1\") # yellow left leg\n",
    "plt.plot(x2, y,\"c\", label = \"line 2\")  # blue right leg\n",
    "frames_ankle_left_leg=[]\n",
    "frames_ankle_right_leg=[]\n",
    "for ind in index1:\n",
    "    plt.plot(x1[ind],y[ind], marker=\"o\", ls=\"\", ms=10 )\n",
    "    frames_ankle_left_leg.append(y[ind])\n",
    "    \n",
    "for ind in index2:\n",
    "    plt.plot(x2[ind],y[ind], marker=\"*\", ls=\"\", ms=10 )\n",
    "    frames_ankle_right_leg.append(y[ind])\n",
    "    \n",
    "# t=frames_right_leg\n",
    "# frames_right_leg=frames_left_leg\n",
    "# frames_left_leg=t"
   ]
  },
  {
   "cell_type": "code",
   "execution_count": 14,
   "id": "c6a0e401",
   "metadata": {
    "ExecuteTime": {
     "end_time": "2022-10-13T13:22:44.646571Z",
     "start_time": "2022-10-13T13:22:44.435886Z"
    }
   },
   "outputs": [
    {
     "data": {
      "image/png": "[encoded data removed]",
      "text/plain": [
       "<Figure size 720x720 with 1 Axes>"
      ]
     },
     "metadata": {
      "needs_background": "light"
     },
     "output_type": "display_data"
    }
   ],
   "source": [
    "# import matplotlib.pyplot as plt\n",
    "# import numpy as np\n",
    "# import peakutils\n",
    "# # define data values\n",
    "# x1 = ankle_angle_list_left  # X-axis points\n",
    "# x2 = ankle_angle_list_right\n",
    "# y=y_  # Y-axis points\n",
    "# # f = plt.figure()\n",
    "# # f.set_figwidth(10)\n",
    "# # f.set_figheight(10)\n",
    "# negx1 = [ -x for x in x1]\n",
    "# index1 = peakutils.indexes(negx1,thres=0.6,min_dist=1)\n",
    "# negx2 = [ -x for x in x2]\n",
    "# index2 = peakutils.indexes(negx2,thres=0.8,min_dist=1)\n",
    "# # print(negx1)\n",
    "# plt.figure(figsize=(10,10))\n",
    "# plt.plot(x1, y,\"b\", label = \"line 1\") # yellow left leg\n",
    "# plt.plot(x2, y,\"c\", label = \"line 2\")  # blue right leg\n",
    "# frames_ankle_left_leg=[]\n",
    "# frames_ankle_right_leg=[]\n",
    "# for ind in index1:\n",
    "#     plt.plot(x1[ind],y[ind], marker=\"o\", ls=\"\", ms=10 )\n",
    "#     frames_ankle_left_leg.append(y[ind])\n",
    "    \n",
    "# for ind in index2:\n",
    "#     plt.plot(x2[ind],y[ind], marker=\"*\", ls=\"\", ms=10 )\n",
    "#     frames_ankle_right_leg.append(y[ind])\n",
    "    \n",
    "# # t=frames_right_leg\n",
    "# # frames_right_leg=frames_left_leg\n",
    "# # frames_left_leg=t"
   ]
  },
  {
   "cell_type": "code",
   "execution_count": 36,
   "id": "1c48bca5",
   "metadata": {
    "ExecuteTime": {
     "end_time": "2022-10-13T13:45:37.839803Z",
     "start_time": "2022-10-13T13:45:37.821598Z"
    },
    "scrolled": true
   },
   "outputs": [
    {
     "data": {
      "text/plain": [
       "[197, 202]"
      ]
     },
     "execution_count": 36,
     "metadata": {},
     "output_type": "execute_result"
    }
   ],
   "source": [
    "frames_knee_left_leg  # right   leg is off the ground\n",
    "# new anal\" for mid swing"
   ]
  },
  {
   "cell_type": "code",
   "execution_count": 37,
   "id": "b2543fab",
   "metadata": {
    "ExecuteTime": {
     "end_time": "2022-10-13T13:45:37.854966Z",
     "start_time": "2022-10-13T13:45:37.843778Z"
    }
   },
   "outputs": [
    {
     "data": {
      "text/plain": [
       "[78, 81]"
      ]
     },
     "execution_count": 37,
     "metadata": {},
     "output_type": "execute_result"
    }
   ],
   "source": [
    "frames_knee_right_leg  # left leg is off the ground\n",
    "# new anal for mid stance"
   ]
  },
  {
   "cell_type": "code",
   "execution_count": 95,
   "id": "5ce4c115",
   "metadata": {
    "ExecuteTime": {
     "end_time": "2022-10-13T16:34:07.765822Z",
     "start_time": "2022-10-13T16:34:07.748831Z"
    }
   },
   "outputs": [
    {
     "data": {
      "text/plain": [
       "[37, 40, 43, 46, 185, 187, 264, 266]"
      ]
     },
     "execution_count": 95,
     "metadata": {},
     "output_type": "execute_result"
    }
   ],
   "source": [
    "frames_ankle_left_leg  "
   ]
  },
  {
   "cell_type": "code",
   "execution_count": 96,
   "id": "588009a9",
   "metadata": {
    "ExecuteTime": {
     "end_time": "2022-10-13T16:34:09.591157Z",
     "start_time": "2022-10-13T16:34:09.581166Z"
    },
    "scrolled": true
   },
   "outputs": [
    {
     "data": {
      "text/plain": [
       "[57, 62, 67, 81, 154, 156, 159, 162]"
      ]
     },
     "execution_count": 96,
     "metadata": {},
     "output_type": "execute_result"
    }
   ],
   "source": [
    "\n",
    "frames_ankle_right_leg # 27 is right leg heel strike, "
   ]
  },
  {
   "cell_type": "markdown",
   "id": "04a1e7ce",
   "metadata": {},
   "source": [
    "all these points correspond to the points of liftoff from the ground for each leg\n",
    "there is no issue with left or right leg here"
   ]
  },
  {
   "cell_type": "markdown",
   "id": "9b57ed0b",
   "metadata": {},
   "source": [
    "ankle angle output points seem to be confusing lets try using y value."
   ]
  },
  {
   "cell_type": "markdown",
   "id": "5240edac",
   "metadata": {},
   "source": [
    "# displacement analysis"
   ]
  },
  {
   "cell_type": "code",
   "execution_count": 40,
   "id": "f4d14ce8",
   "metadata": {
    "ExecuteTime": {
     "end_time": "2022-10-13T13:47:54.286088Z",
     "start_time": "2022-10-13T13:47:54.266196Z"
    }
   },
   "outputs": [],
   "source": [
    "import json\n",
    "import os\n",
    "\n",
    "# from google.colab import drive\n",
    "# drive.mount('/content/gdrive')\n",
    "# os.chdir('/content/gdrive/MyDrive/Gait Analysis/normal_walk_output.json/')\n",
    "\n",
    "BODY_PARTS= {\n",
    "0:  \"Nose\",\n",
    "1:  \"Neck\",\n",
    "2:  \"RShoulder\",\n",
    "3:  \"RElbow\",\n",
    "4:  \"RWrist\",\n",
    "5:  \"LShoulder\",\n",
    "6:  \"LElbow\",\n",
    "7:  \"LWrist\",\n",
    "8:  \"MidHip\",\n",
    "9:  \"RHip\",\n",
    "10: \"RKnee\",\n",
    "11: \"RAnkle\",\n",
    "12: \"LHip\",\n",
    "13: \"LKnee\",\n",
    "14: \"LAnkle\",\n",
    "15: \"REye\",\n",
    "16: \"LEye\",\n",
    "17: \"REar\",\n",
    "18: \"LEar\",\n",
    "19: \"LBigToe\",\n",
    "20: \"LSmallToe\",\n",
    "21: \"LHeel\",\n",
    "22: \"RBigToe\",\n",
    "23: \"RSmallToe\",\n",
    "24: \"RHeel\",\n",
    "25: \"Background\"\n",
    " }"
   ]
  },
  {
   "cell_type": "code",
   "execution_count": 44,
   "id": "e7c43ee3",
   "metadata": {
    "ExecuteTime": {
     "end_time": "2022-10-12T13:52:39.657664Z",
     "start_time": "2022-10-12T13:52:39.651668Z"
    }
   },
   "outputs": [],
   "source": [
    "# import os\n",
    "# os.chdir('../')"
   ]
  },
  {
   "cell_type": "code",
   "execution_count": 42,
   "id": "93fb7c2f",
   "metadata": {
    "ExecuteTime": {
     "end_time": "2022-10-13T13:49:12.730375Z",
     "start_time": "2022-10-13T13:49:12.433504Z"
    }
   },
   "outputs": [
    {
     "name": "stdout",
     "output_type": "stream",
     "text": [
      "enter loop\n",
      "single_gait_000000000001_keypoints.json\n",
      "enter loop\n",
      "single_gait_000000000002_keypoints.json\n",
      "enter loop\n",
      "single_gait_000000000003_keypoints.json\n",
      "enter loop\n",
      "single_gait_000000000004_keypoints.json\n",
      "enter loop\n",
      "single_gait_000000000005_keypoints.json\n",
      "enter loop\n",
      "single_gait_000000000006_keypoints.json\n",
      "enter loop\n",
      "single_gait_000000000007_keypoints.json\n",
      "enter loop\n",
      "single_gait_000000000008_keypoints.json\n",
      "enter loop\n",
      "single_gait_000000000009_keypoints.json\n",
      "enter loop\n",
      "single_gait_000000000010_keypoints.json\n",
      "enter loop\n",
      "single_gait_000000000011_keypoints.json\n",
      "enter loop\n",
      "single_gait_000000000012_keypoints.json\n",
      "enter loop\n",
      "single_gait_000000000013_keypoints.json\n",
      "enter loop\n",
      "single_gait_000000000014_keypoints.json\n",
      "enter loop\n",
      "single_gait_000000000015_keypoints.json\n",
      "enter loop\n",
      "single_gait_000000000016_keypoints.json\n",
      "enter loop\n",
      "single_gait_000000000017_keypoints.json\n",
      "enter loop\n",
      "single_gait_000000000018_keypoints.json\n",
      "enter loop\n",
      "single_gait_000000000019_keypoints.json\n",
      "enter loop\n",
      "single_gait_000000000020_keypoints.json\n",
      "enter loop\n",
      "single_gait_000000000021_keypoints.json\n",
      "enter loop\n",
      "single_gait_000000000022_keypoints.json\n",
      "enter loop\n",
      "single_gait_000000000023_keypoints.json\n",
      "enter loop\n",
      "single_gait_000000000024_keypoints.json\n",
      "enter loop\n",
      "single_gait_000000000025_keypoints.json\n",
      "enter loop\n",
      "single_gait_000000000026_keypoints.json\n",
      "enter loop\n",
      "single_gait_000000000027_keypoints.json\n",
      "enter loop\n",
      "single_gait_000000000028_keypoints.json\n",
      "enter loop\n",
      "single_gait_000000000029_keypoints.json\n",
      "enter loop\n",
      "single_gait_000000000030_keypoints.json\n",
      "enter loop\n",
      "single_gait_000000000031_keypoints.json\n",
      "enter loop\n",
      "single_gait_000000000032_keypoints.json\n",
      "enter loop\n",
      "single_gait_000000000033_keypoints.json\n",
      "enter loop\n",
      "single_gait_000000000034_keypoints.json\n",
      "enter loop\n",
      "single_gait_000000000035_keypoints.json\n",
      "enter loop\n",
      "single_gait_000000000036_keypoints.json\n",
      "enter loop\n",
      "single_gait_000000000037_keypoints.json\n",
      "enter loop\n",
      "single_gait_000000000038_keypoints.json\n",
      "enter loop\n",
      "single_gait_000000000039_keypoints.json\n",
      "enter loop\n",
      "single_gait_000000000040_keypoints.json\n",
      "enter loop\n",
      "single_gait_000000000041_keypoints.json\n",
      "enter loop\n",
      "single_gait_000000000042_keypoints.json\n",
      "enter loop\n",
      "single_gait_000000000043_keypoints.json\n",
      "enter loop\n",
      "single_gait_000000000044_keypoints.json\n",
      "enter loop\n",
      "single_gait_000000000045_keypoints.json\n",
      "enter loop\n",
      "single_gait_000000000046_keypoints.json\n",
      "enter loop\n",
      "single_gait_000000000047_keypoints.json\n",
      "enter loop\n",
      "single_gait_000000000048_keypoints.json\n",
      "enter loop\n",
      "single_gait_000000000049_keypoints.json\n",
      "enter loop\n",
      "single_gait_000000000050_keypoints.json\n",
      "enter loop\n",
      "single_gait_000000000051_keypoints.json\n",
      "enter loop\n",
      "single_gait_000000000052_keypoints.json\n",
      "enter loop\n",
      "single_gait_000000000053_keypoints.json\n",
      "enter loop\n",
      "single_gait_000000000054_keypoints.json\n",
      "enter loop\n",
      "single_gait_000000000055_keypoints.json\n",
      "enter loop\n",
      "single_gait_000000000056_keypoints.json\n",
      "enter loop\n",
      "single_gait_000000000057_keypoints.json\n",
      "enter loop\n",
      "single_gait_000000000058_keypoints.json\n",
      "enter loop\n",
      "single_gait_000000000059_keypoints.json\n",
      "enter loop\n",
      "single_gait_000000000060_keypoints.json\n",
      "enter loop\n",
      "single_gait_000000000061_keypoints.json\n",
      "enter loop\n",
      "single_gait_000000000062_keypoints.json\n",
      "enter loop\n",
      "single_gait_000000000063_keypoints.json\n",
      "enter loop\n",
      "single_gait_000000000064_keypoints.json\n",
      "enter loop\n",
      "single_gait_000000000065_keypoints.json\n",
      "enter loop\n",
      "single_gait_000000000066_keypoints.json\n",
      "enter loop\n",
      "single_gait_000000000067_keypoints.json\n",
      "enter loop\n",
      "single_gait_000000000068_keypoints.json\n",
      "enter loop\n",
      "single_gait_000000000069_keypoints.json\n",
      "enter loop\n",
      "single_gait_000000000070_keypoints.json\n",
      "enter loop\n",
      "single_gait_000000000071_keypoints.json\n",
      "enter loop\n",
      "single_gait_000000000072_keypoints.json\n",
      "enter loop\n",
      "single_gait_000000000073_keypoints.json\n",
      "enter loop\n",
      "single_gait_000000000074_keypoints.json\n",
      "enter loop\n",
      "single_gait_000000000075_keypoints.json\n",
      "enter loop\n",
      "single_gait_000000000076_keypoints.json\n",
      "enter loop\n",
      "single_gait_000000000077_keypoints.json\n",
      "enter loop\n",
      "single_gait_000000000078_keypoints.json\n",
      "enter loop\n",
      "single_gait_000000000079_keypoints.json\n",
      "enter loop\n",
      "single_gait_000000000080_keypoints.json\n",
      "enter loop\n",
      "single_gait_000000000081_keypoints.json\n",
      "enter loop\n",
      "single_gait_000000000082_keypoints.json\n",
      "enter loop\n",
      "single_gait_000000000083_keypoints.json\n",
      "enter loop\n",
      "single_gait_000000000084_keypoints.json\n",
      "enter loop\n",
      "single_gait_000000000085_keypoints.json\n",
      "enter loop\n",
      "single_gait_000000000086_keypoints.json\n",
      "enter loop\n",
      "single_gait_000000000087_keypoints.json\n",
      "enter loop\n",
      "single_gait_000000000088_keypoints.json\n",
      "enter loop\n",
      "single_gait_000000000089_keypoints.json\n",
      "enter loop\n",
      "single_gait_000000000090_keypoints.json\n",
      "enter loop\n",
      "single_gait_000000000091_keypoints.json\n",
      "enter loop\n",
      "single_gait_000000000092_keypoints.json\n",
      "enter loop\n",
      "single_gait_000000000093_keypoints.json\n",
      "enter loop\n",
      "single_gait_000000000094_keypoints.json\n",
      "enter loop\n",
      "single_gait_000000000095_keypoints.json\n",
      "enter loop\n",
      "single_gait_000000000096_keypoints.json\n",
      "enter loop\n",
      "single_gait_000000000097_keypoints.json\n",
      "enter loop\n",
      "single_gait_000000000098_keypoints.json\n",
      "enter loop\n",
      "single_gait_000000000099_keypoints.json\n",
      "enter loop\n",
      "single_gait_000000000100_keypoints.json\n",
      "enter loop\n",
      "single_gait_000000000101_keypoints.json\n",
      "enter loop\n",
      "single_gait_000000000102_keypoints.json\n",
      "enter loop\n",
      "single_gait_000000000103_keypoints.json\n",
      "enter loop\n",
      "single_gait_000000000104_keypoints.json\n",
      "enter loop\n",
      "single_gait_000000000105_keypoints.json\n",
      "enter loop\n",
      "single_gait_000000000106_keypoints.json\n",
      "enter loop\n",
      "single_gait_000000000107_keypoints.json\n",
      "enter loop\n",
      "single_gait_000000000108_keypoints.json\n",
      "enter loop\n",
      "single_gait_000000000109_keypoints.json\n",
      "enter loop\n",
      "single_gait_000000000110_keypoints.json\n",
      "enter loop\n",
      "single_gait_000000000111_keypoints.json\n",
      "enter loop\n",
      "single_gait_000000000112_keypoints.json\n",
      "enter loop\n",
      "single_gait_000000000113_keypoints.json\n",
      "enter loop\n",
      "single_gait_000000000114_keypoints.json\n",
      "enter loop\n",
      "single_gait_000000000115_keypoints.json\n",
      "enter loop\n",
      "single_gait_000000000116_keypoints.json\n",
      "enter loop\n",
      "single_gait_000000000117_keypoints.json\n",
      "enter loop\n",
      "single_gait_000000000118_keypoints.json\n",
      "enter loop\n",
      "single_gait_000000000119_keypoints.json\n",
      "enter loop\n",
      "single_gait_000000000120_keypoints.json\n",
      "enter loop\n",
      "single_gait_000000000121_keypoints.json\n",
      "enter loop\n",
      "single_gait_000000000122_keypoints.json\n",
      "enter loop\n",
      "single_gait_000000000123_keypoints.json\n",
      "enter loop\n",
      "single_gait_000000000124_keypoints.json\n",
      "enter loop\n",
      "single_gait_000000000125_keypoints.json\n",
      "enter loop\n",
      "single_gait_000000000126_keypoints.json\n",
      "enter loop\n",
      "single_gait_000000000127_keypoints.json\n",
      "enter loop\n",
      "single_gait_000000000128_keypoints.json\n",
      "enter loop\n",
      "single_gait_000000000129_keypoints.json\n",
      "enter loop\n",
      "single_gait_000000000130_keypoints.json\n",
      "enter loop\n",
      "single_gait_000000000131_keypoints.json\n",
      "enter loop\n",
      "single_gait_000000000132_keypoints.json\n",
      "enter loop\n",
      "single_gait_000000000133_keypoints.json\n",
      "enter loop\n",
      "single_gait_000000000134_keypoints.json\n",
      "enter loop\n",
      "single_gait_000000000135_keypoints.json\n",
      "enter loop\n",
      "single_gait_000000000136_keypoints.json\n",
      "enter loop\n",
      "single_gait_000000000137_keypoints.json\n",
      "enter loop\n",
      "single_gait_000000000138_keypoints.json\n",
      "enter loop\n",
      "single_gait_000000000139_keypoints.json\n",
      "enter loop\n",
      "single_gait_000000000140_keypoints.json\n",
      "enter loop\n",
      "single_gait_000000000141_keypoints.json\n",
      "enter loop\n",
      "single_gait_000000000142_keypoints.json\n",
      "enter loop\n",
      "single_gait_000000000143_keypoints.json\n",
      "enter loop\n",
      "single_gait_000000000144_keypoints.json\n",
      "enter loop\n",
      "single_gait_000000000145_keypoints.json\n",
      "enter loop\n",
      "single_gait_000000000146_keypoints.json\n",
      "enter loop\n",
      "single_gait_000000000147_keypoints.json\n",
      "enter loop\n",
      "single_gait_000000000148_keypoints.json\n",
      "enter loop\n",
      "single_gait_000000000149_keypoints.json\n",
      "enter loop\n",
      "single_gait_000000000150_keypoints.json\n",
      "enter loop\n",
      "single_gait_000000000151_keypoints.json\n",
      "enter loop\n",
      "single_gait_000000000152_keypoints.json\n",
      "enter loop\n",
      "single_gait_000000000153_keypoints.json\n",
      "enter loop\n",
      "single_gait_000000000154_keypoints.json\n",
      "enter loop\n",
      "single_gait_000000000155_keypoints.json\n",
      "enter loop\n",
      "single_gait_000000000156_keypoints.json\n",
      "enter loop\n",
      "single_gait_000000000157_keypoints.json\n",
      "enter loop\n",
      "single_gait_000000000158_keypoints.json\n",
      "enter loop\n",
      "single_gait_000000000159_keypoints.json\n",
      "enter loop\n",
      "single_gait_000000000160_keypoints.json\n",
      "enter loop\n",
      "single_gait_000000000161_keypoints.json\n",
      "enter loop\n",
      "single_gait_000000000162_keypoints.json\n",
      "enter loop\n",
      "single_gait_000000000163_keypoints.json\n",
      "enter loop\n",
      "single_gait_000000000164_keypoints.json\n",
      "enter loop\n",
      "single_gait_000000000165_keypoints.json\n",
      "enter loop\n",
      "single_gait_000000000166_keypoints.json\n",
      "enter loop\n",
      "single_gait_000000000167_keypoints.json\n",
      "enter loop\n",
      "single_gait_000000000168_keypoints.json\n",
      "enter loop\n",
      "single_gait_000000000169_keypoints.json\n"
     ]
    },
    {
     "name": "stdout",
     "output_type": "stream",
     "text": [
      "enter loop\n",
      "single_gait_000000000170_keypoints.json\n",
      "enter loop\n",
      "single_gait_000000000171_keypoints.json\n",
      "enter loop\n",
      "single_gait_000000000172_keypoints.json\n",
      "enter loop\n",
      "single_gait_000000000173_keypoints.json\n",
      "enter loop\n",
      "single_gait_000000000174_keypoints.json\n",
      "enter loop\n",
      "single_gait_000000000175_keypoints.json\n",
      "enter loop\n",
      "single_gait_000000000176_keypoints.json\n",
      "enter loop\n",
      "single_gait_000000000177_keypoints.json\n",
      "enter loop\n",
      "single_gait_000000000178_keypoints.json\n",
      "enter loop\n",
      "single_gait_000000000179_keypoints.json\n",
      "enter loop\n",
      "single_gait_000000000180_keypoints.json\n",
      "enter loop\n",
      "single_gait_000000000181_keypoints.json\n",
      "enter loop\n",
      "single_gait_000000000182_keypoints.json\n",
      "enter loop\n",
      "single_gait_000000000183_keypoints.json\n",
      "enter loop\n",
      "single_gait_000000000184_keypoints.json\n",
      "enter loop\n",
      "single_gait_000000000185_keypoints.json\n",
      "enter loop\n",
      "single_gait_000000000186_keypoints.json\n",
      "enter loop\n",
      "single_gait_000000000187_keypoints.json\n",
      "enter loop\n",
      "single_gait_000000000188_keypoints.json\n",
      "enter loop\n",
      "single_gait_000000000189_keypoints.json\n",
      "enter loop\n",
      "single_gait_000000000190_keypoints.json\n",
      "enter loop\n",
      "single_gait_000000000191_keypoints.json\n",
      "enter loop\n",
      "single_gait_000000000192_keypoints.json\n",
      "enter loop\n",
      "single_gait_000000000193_keypoints.json\n",
      "enter loop\n",
      "single_gait_000000000194_keypoints.json\n",
      "enter loop\n",
      "single_gait_000000000195_keypoints.json\n",
      "enter loop\n",
      "single_gait_000000000196_keypoints.json\n",
      "enter loop\n",
      "single_gait_000000000197_keypoints.json\n",
      "enter loop\n",
      "single_gait_000000000198_keypoints.json\n",
      "enter loop\n",
      "single_gait_000000000199_keypoints.json\n",
      "enter loop\n",
      "single_gait_000000000200_keypoints.json\n",
      "enter loop\n",
      "single_gait_000000000201_keypoints.json\n",
      "enter loop\n",
      "single_gait_000000000202_keypoints.json\n",
      "enter loop\n",
      "single_gait_000000000203_keypoints.json\n",
      "enter loop\n",
      "single_gait_000000000204_keypoints.json\n",
      "enter loop\n",
      "single_gait_000000000205_keypoints.json\n",
      "enter loop\n",
      "single_gait_000000000206_keypoints.json\n",
      "enter loop\n",
      "single_gait_000000000207_keypoints.json\n",
      "enter loop\n",
      "single_gait_000000000208_keypoints.json\n",
      "enter loop\n",
      "single_gait_000000000209_keypoints.json\n",
      "enter loop\n",
      "single_gait_000000000210_keypoints.json\n",
      "enter loop\n",
      "single_gait_000000000211_keypoints.json\n",
      "enter loop\n",
      "single_gait_000000000212_keypoints.json\n",
      "enter loop\n",
      "single_gait_000000000213_keypoints.json\n",
      "enter loop\n",
      "single_gait_000000000214_keypoints.json\n",
      "enter loop\n",
      "single_gait_000000000215_keypoints.json\n",
      "enter loop\n",
      "single_gait_000000000216_keypoints.json\n",
      "enter loop\n",
      "single_gait_000000000217_keypoints.json\n",
      "enter loop\n",
      "single_gait_000000000218_keypoints.json\n",
      "enter loop\n",
      "single_gait_000000000219_keypoints.json\n",
      "enter loop\n",
      "single_gait_000000000220_keypoints.json\n",
      "enter loop\n",
      "single_gait_000000000221_keypoints.json\n",
      "enter loop\n",
      "single_gait_000000000222_keypoints.json\n",
      "enter loop\n",
      "single_gait_000000000223_keypoints.json\n",
      "enter loop\n",
      "single_gait_000000000224_keypoints.json\n",
      "enter loop\n",
      "single_gait_000000000225_keypoints.json\n",
      "enter loop\n",
      "single_gait_000000000226_keypoints.json\n",
      "enter loop\n",
      "single_gait_000000000227_keypoints.json\n",
      "enter loop\n",
      "single_gait_000000000228_keypoints.json\n",
      "enter loop\n",
      "single_gait_000000000229_keypoints.json\n",
      "enter loop\n",
      "single_gait_000000000230_keypoints.json\n",
      "enter loop\n",
      "single_gait_000000000231_keypoints.json\n",
      "enter loop\n",
      "single_gait_000000000232_keypoints.json\n",
      "enter loop\n",
      "single_gait_000000000233_keypoints.json\n",
      "enter loop\n",
      "single_gait_000000000234_keypoints.json\n",
      "enter loop\n",
      "single_gait_000000000235_keypoints.json\n",
      "enter loop\n",
      "single_gait_000000000236_keypoints.json\n",
      "enter loop\n",
      "single_gait_000000000237_keypoints.json\n",
      "enter loop\n",
      "single_gait_000000000238_keypoints.json\n",
      "enter loop\n",
      "single_gait_000000000239_keypoints.json\n",
      "enter loop\n",
      "single_gait_000000000240_keypoints.json\n",
      "enter loop\n",
      "single_gait_000000000241_keypoints.json\n",
      "enter loop\n",
      "single_gait_000000000242_keypoints.json\n",
      "enter loop\n",
      "single_gait_000000000243_keypoints.json\n",
      "enter loop\n",
      "single_gait_000000000244_keypoints.json\n",
      "enter loop\n",
      "single_gait_000000000245_keypoints.json\n",
      "enter loop\n",
      "single_gait_000000000246_keypoints.json\n",
      "enter loop\n",
      "single_gait_000000000247_keypoints.json\n",
      "enter loop\n",
      "single_gait_000000000248_keypoints.json\n",
      "enter loop\n",
      "single_gait_000000000249_keypoints.json\n",
      "enter loop\n",
      "single_gait_000000000250_keypoints.json\n",
      "enter loop\n",
      "single_gait_000000000251_keypoints.json\n",
      "enter loop\n",
      "single_gait_000000000252_keypoints.json\n",
      "enter loop\n",
      "single_gait_000000000253_keypoints.json\n",
      "enter loop\n",
      "single_gait_000000000254_keypoints.json\n",
      "enter loop\n",
      "single_gait_000000000255_keypoints.json\n",
      "enter loop\n",
      "single_gait_000000000256_keypoints.json\n",
      "enter loop\n",
      "single_gait_000000000257_keypoints.json\n",
      "enter loop\n",
      "single_gait_000000000258_keypoints.json\n",
      "enter loop\n",
      "single_gait_000000000259_keypoints.json\n",
      "enter loop\n",
      "single_gait_000000000260_keypoints.json\n",
      "enter loop\n",
      "single_gait_000000000261_keypoints.json\n",
      "enter loop\n",
      "single_gait_000000000262_keypoints.json\n",
      "enter loop\n",
      "single_gait_000000000263_keypoints.json\n",
      "enter loop\n",
      "single_gait_000000000264_keypoints.json\n",
      "enter loop\n",
      "single_gait_000000000265_keypoints.json\n",
      "enter loop\n",
      "single_gait_000000000266_keypoints.json\n",
      "enter loop\n",
      "single_gait_000000000267_keypoints.json\n",
      "enter loop\n",
      "single_gait_000000000268_keypoints.json\n",
      "enter loop\n",
      "single_gait_000000000269_keypoints.json\n",
      "enter loop\n",
      "single_gait_000000000270_keypoints.json\n",
      "enter loop\n",
      "single_gait_000000000271_keypoints.json\n",
      "enter loop\n",
      "single_gait_000000000272_keypoints.json\n",
      "enter loop\n",
      "single_gait_000000000273_keypoints.json\n",
      "enter loop\n",
      "single_gait_000000000274_keypoints.json\n",
      "enter loop\n",
      "single_gait_000000000275_keypoints.json\n",
      "enter loop\n",
      "single_gait_000000000276_keypoints.json\n",
      "enter loop\n",
      "single_gait_000000000277_keypoints.json\n",
      "enter loop\n",
      "single_gait_000000000278_keypoints.json\n"
     ]
    }
   ],
   "source": [
    "i=0\n",
    "zero_str='00'\n",
    "path_str='single_gait_000000000'+zero_str+str(i)+'_keypoints.json'\n",
    "isFile = os.path.isfile(path_str)\n",
    "body_part_x={k:[] for k in range(0,26)}\n",
    "body_part_y={k:[] for k in range(0,26)}\n",
    "\n",
    "while(os.path.isfile(path_str)):\n",
    "    print(\"enter loop\")\n",
    "    if(i<9):\n",
    "        zero_str='00'\n",
    "    elif(i>=9 and i<99):\n",
    "        zero_str='0'\n",
    "    elif(i>=99):\n",
    "        zero_str=''\n",
    "    i+=1\n",
    "    f = open(path_str)\n",
    "    path_str='single_gait_000000000'+zero_str+str(i)+'_keypoints.json'\n",
    "\n",
    "    data = json.load(f)\n",
    "    person_1=data['people']\n",
    "    keypoints=person_1[0]['pose_keypoints_2d']\n",
    "    k=0\n",
    "    j=0\n",
    "    while k< len(keypoints)-1:\n",
    "#         print(\"enter inner loop\")\n",
    "        x=keypoints[k+0]\n",
    "        y=keypoints[k+1]\n",
    "        confidence=keypoints[k+2]\n",
    "        # print(\"Body Part: \"+BODY_PARTS[j])\n",
    "        # print(\"x-> \"+str(x)+\", y-> \"+str(y)+\", confidence->\"+str(confidence))\n",
    "        body_part_x[j].append(x)\n",
    "        body_part_y[j].append(y)\n",
    "        k+=3\n",
    "        j+=1\n",
    "\n",
    "    print(path_str)"
   ]
  },
  {
   "cell_type": "code",
   "execution_count": 112,
   "id": "392acbd6",
   "metadata": {
    "ExecuteTime": {
     "end_time": "2022-10-13T17:32:37.051546Z",
     "start_time": "2022-10-13T17:32:36.921550Z"
    },
    "scrolled": true
   },
   "outputs": [
    {
     "name": "stdout",
     "output_type": "stream",
     "text": [
      "[ 21  23  25  33  36  38  40  44  46  50  52  54  64  69  78  83  89  93\n",
      "  96  98 100 102 106 109 113 121 123 125 130 260 265 270 275]\n"
     ]
    },
    {
     "data": {
      "image/png": "[encoded data removed]",
      "text/plain": [
       "<Figure size 720x720 with 1 Axes>"
      ]
     },
     "metadata": {
      "needs_background": "light"
     },
     "output_type": "display_data"
    }
   ],
   "source": [
    "# all 4 in same graph only left side\n",
    "\n",
    "import matplotlib.pyplot as plt\n",
    "import numpy as np\n",
    "import peakutils\n",
    "\n",
    "# define data values\n",
    "x1 = body_part_y[21]   # X-axis points  left\n",
    "x2 = body_part_y[24]  # this is right\n",
    "# define data values\n",
    "x3 = body_part_y[20]   # X-axis points  left\n",
    "x4 = body_part_y[23]  # this is right\n",
    "\n",
    "y=y_  # Y-axis points\n",
    "# f = plt.figure()\n",
    "# f.set_figwidth(10)\n",
    "# f.set_figheight(10)\n",
    "negx1 = [ x for x in x1]\n",
    "index1 = peakutils.indexes(negx1,thres=0.95,min_dist=1)\n",
    "negx2 = [ x for x in x2]\n",
    "index2 = peakutils.indexes(negx2,thres=0.9,min_dist=1)\n",
    "print(index1)\n",
    "plt.figure(figsize=(10,10))\n",
    "plt.plot(x1, y,'b', label = \"line 1\") # blue left leg heel\n",
    "# plt.plot(x2, y,'r', label = \"line 2\")  # cyan right leg heel\n",
    "plt.plot(x3, y,'c', label = \"line 3\") # blue left leg toe\n",
    "# plt.plot(x4, y,'y', label = \"line 4\")  # cyan right leg toe\n",
    "heel_frames_left_leg_disp=[]\n",
    "heel_frames_right_leg_disp=[]\n",
    "# for ind in index1:\n",
    "#     plt.plot(x1[ind],y[ind], marker=\"o\", ls=\"\", ms=10 )\n",
    "#     heel_frames_left_leg_disp.append(y[ind])\n",
    "    \n",
    "# for ind in index2:\n",
    "#     plt.plot(x2[ind],y[ind], marker=\"o\", ls=\"\", ms=10 )\n",
    "#     heel_frames_right_leg_disp.append(y[ind])"
   ]
  },
  {
   "cell_type": "code",
   "execution_count": 174,
   "id": "60237781",
   "metadata": {
    "ExecuteTime": {
     "end_time": "2022-10-13T18:45:53.117609Z",
     "start_time": "2022-10-13T18:45:52.937480Z"
    }
   },
   "outputs": [
    {
     "name": "stdout",
     "output_type": "stream",
     "text": [
      "[ 21  23  25  33  36  38  40  44  46  50  52  54  64  69  78  83  89  93\n",
      "  96  98 100 102 106 109 113 121 123 125 130 260 265 270 275]\n"
     ]
    },
    {
     "data": {
      "image/png": "[encoded data removed]",
      "text/plain": [
       "<Figure size 720x720 with 1 Axes>"
      ]
     },
     "metadata": {
      "needs_background": "light"
     },
     "output_type": "display_data"
    }
   ],
   "source": [
    "import matplotlib.pyplot as plt\n",
    "import numpy as np\n",
    "import peakutils\n",
    "\n",
    "# define data values\n",
    "x1 = body_part_y[21]   # X-axis points  left\n",
    "x2 = body_part_y[24]  # this is right\n",
    "\n",
    "y=y_  # Y-axis points\n",
    "# f = plt.figure()\n",
    "# f.set_figwidth(10)\n",
    "# f.set_figheight(10)\n",
    "negx1 = [ x for x in x1]\n",
    "index1 = peakutils.indexes(negx1,thres=0.95,min_dist=1)\n",
    "negx2 = [ x for x in x2]\n",
    "index2 = peakutils.indexes(negx2,thres=0.9,min_dist=1)\n",
    "print(index1)\n",
    "plt.figure(figsize=(10,10))\n",
    "plt.plot(x1, y,'b', label = \"line 1\") # blue left leg\n",
    "plt.plot(x2, y,'c', label = \"line 2\")  # cyan right leg\n",
    "# define data values\n",
    "\n",
    "heel_frames_left_leg_disp=[]\n",
    "heel_frames_right_leg_disp=[]\n",
    "for ind in index1:\n",
    "    plt.plot(x1[ind],y[ind], marker=\"o\", ls=\"\", ms=10 )\n",
    "    heel_frames_left_leg_disp.append(y[ind])\n",
    "    \n",
    "for ind in index2:\n",
    "    plt.plot(x2[ind],y[ind], marker=\"o\", ls=\"\", ms=10 )\n",
    "    heel_frames_right_leg_disp.append(y[ind])"
   ]
  },
  {
   "cell_type": "markdown",
   "id": "fa94241b",
   "metadata": {},
   "source": [
    "y value is computed from the top of the frame\n",
    "so 200 is ground contact and 160 would be hihest from ground"
   ]
  },
  {
   "cell_type": "code",
   "execution_count": 93,
   "id": "c36ae7c5",
   "metadata": {
    "ExecuteTime": {
     "end_time": "2022-10-13T14:14:13.122099Z",
     "start_time": "2022-10-13T14:14:13.106096Z"
    },
    "scrolled": true
   },
   "outputs": [],
   "source": [
    "# import matplotlib.pyplot as plt\n",
    "# import numpy as np\n",
    "# import peakutils\n",
    "\n",
    "# # define data values\n",
    "# x1 = body_part_y[20]   # X-axis points  left\n",
    "# x2 = body_part_y[23]  # this is right\n",
    "\n",
    "# y=y_  # Y-axis points\n",
    "# # f = plt.figure()\n",
    "# # f.set_figwidth(10)\n",
    "# # f.set_figheight(10)\n",
    "# negx1 = [ -x for x in x1]\n",
    "# index1 = peakutils.indexes(negx1,thres=0.1215,min_dist=1)\n",
    "# negx2 = [ -x for x in x2]\n",
    "# index2 = peakutils.indexes(negx2,thres=0.9,min_dist=1)\n",
    "# print(index1)\n",
    "# plt.figure(figsize=(10,10))\n",
    "# plt.plot(x1, y,'b', label = \"line 1\") # blue left leg\n",
    "# plt.plot(x2, y,'c', label = \"line 2\")  # cyan right leg\n",
    "# toe_frames_left_leg_disp=[]\n",
    "# toe_frames_right_leg_disp=[]\n",
    "# for ind in index1:\n",
    "#     plt.plot(x1[ind],y[ind], marker=\"o\", ls=\"\", ms=10 )\n",
    "#     toe_frames_left_leg_disp.append(y[ind])\n",
    "    \n",
    "# for ind in index2:\n",
    "#     plt.plot(x2[ind],y[ind], marker=\"o\", ls=\"\", ms=10 )\n",
    "#     toe_frames_right_leg_disp.append(y[ind])"
   ]
  },
  {
   "cell_type": "code",
   "execution_count": 188,
   "id": "a8bbbaf6",
   "metadata": {
    "ExecuteTime": {
     "end_time": "2022-10-13T18:52:30.205126Z",
     "start_time": "2022-10-13T18:52:30.012120Z"
    }
   },
   "outputs": [
    {
     "data": {
      "image/png": "[encoded data removed]",
      "text/plain": [
       "<Figure size 720x720 with 1 Axes>"
      ]
     },
     "metadata": {
      "needs_background": "light"
     },
     "output_type": "display_data"
    }
   ],
   "source": [
    "import matplotlib.pyplot as plt\n",
    "import numpy as np\n",
    "import peakutils\n",
    "\n",
    "# define data values\n",
    "x1 = body_part_y[20]   # X-axis points  left\n",
    "x2 = body_part_y[23]  # this is right\n",
    "\n",
    "y=y_  # Y-axis points\n",
    "# f = plt.figure()\n",
    "# f.set_figwidth(10)\n",
    "# f.set_figheight(10)\n",
    "negx1 = [ x for x in x1]\n",
    "index1 = peakutils.indexes(negx1,thres=0.97,min_dist=1)\n",
    "negx2 = [ x for x in x2]\n",
    "index2 = peakutils.indexes(negx2,thres=0.95,min_dist=1)\n",
    "# print(index1)\n",
    "plt.figure(figsize=(10,10))\n",
    "plt.plot(x1, y,'b', label = \"line 1\") # blue left leg\n",
    "plt.plot(x2, y,'c', label = \"line 2\")  # cyan right leg\n",
    "toe_frames_left_leg_disp=[]\n",
    "toe_frames_right_leg_disp=[]\n",
    "for ind in index1:\n",
    "    plt.plot(x1[ind],y[ind], marker=\"o\", ls=\"\", ms=10 )\n",
    "    toe_frames_left_leg_disp.append(y[ind])\n",
    "    \n",
    "for ind in index2:\n",
    "    plt.plot(x2[ind],y[ind], marker=\"o\", ls=\"\", ms=10 )\n",
    "    toe_frames_right_leg_disp.append(y[ind])"
   ]
  },
  {
   "cell_type": "code",
   "execution_count": 124,
   "id": "82966515",
   "metadata": {
    "ExecuteTime": {
     "end_time": "2022-10-13T17:56:31.187431Z",
     "start_time": "2022-10-13T17:56:31.168429Z"
    }
   },
   "outputs": [
    {
     "data": {
      "text/plain": [
       "array([[ 21,  23,  25,  33,  36,  38,  40,  44,  46,  50,  52,  54,  64,\n",
       "         69,  78,  83,  89,  93,  96,  98, 100, 102, 106, 109, 113, 121,\n",
       "        123, 125, 130, 260, 265, 270, 275]])"
      ]
     },
     "execution_count": 124,
     "metadata": {},
     "output_type": "execute_result"
    }
   ],
   "source": [
    "np.array(heel_frames_left_leg_disp).reshape(1,-1)"
   ]
  },
  {
   "cell_type": "code",
   "execution_count": 92,
   "id": "5363dd74",
   "metadata": {
    "ExecuteTime": {
     "end_time": "2022-10-13T14:11:23.048492Z",
     "start_time": "2022-10-13T14:11:23.027611Z"
    }
   },
   "outputs": [
    {
     "data": {
      "text/plain": [
       "array([[ 16, 132, 134, 141, 148, 152, 155, 157, 160, 164, 166, 168, 174,\n",
       "        176, 181, 187, 191, 196]])"
      ]
     },
     "execution_count": 92,
     "metadata": {},
     "output_type": "execute_result"
    }
   ],
   "source": [
    "np.array(heel_frames_right_leg_disp).reshape(1,-1)"
   ]
  },
  {
   "cell_type": "code",
   "execution_count": 84,
   "id": "4265b913",
   "metadata": {
    "ExecuteTime": {
     "end_time": "2022-10-13T14:05:04.155029Z",
     "start_time": "2022-10-13T14:05:04.140933Z"
    }
   },
   "outputs": [
    {
     "data": {
      "text/plain": [
       "array([[ 38,  40,  42,  44,  46,  50,  52,  54,  61,  69,  80,  82,  88,\n",
       "         90,  93,  98, 100, 102, 104, 107, 111, 113, 121, 123, 125, 128,\n",
       "        133, 135, 138, 145, 148, 153, 157, 160, 162, 169, 171, 178, 266,\n",
       "        270]])"
      ]
     },
     "execution_count": 84,
     "metadata": {},
     "output_type": "execute_result"
    }
   ],
   "source": [
    "np.array(toe_frames_left_leg_disp).reshape(1,-1)"
   ]
  },
  {
   "cell_type": "code",
   "execution_count": 85,
   "id": "2f6bc978",
   "metadata": {
    "ExecuteTime": {
     "end_time": "2022-10-13T14:05:28.421128Z",
     "start_time": "2022-10-13T14:05:28.404128Z"
    }
   },
   "outputs": [
    {
     "data": {
      "text/plain": [
       "array([[  4,   6,   9,  12,  16,  19,  24,  28,  31,  34,  38,  41, 155,\n",
       "        159, 163, 167, 170, 174, 179, 181, 187, 189, 191, 195, 197, 201]])"
      ]
     },
     "execution_count": 85,
     "metadata": {},
     "output_type": "execute_result"
    }
   ],
   "source": [
    "np.array(toe_frames_right_leg_disp).reshape(1,-1)"
   ]
  },
  {
   "cell_type": "markdown",
   "id": "d2240fa9",
   "metadata": {},
   "source": [
    "heel strike: left heel to ground[22]   start of first cluster for heel left( contact stays after this point)(right in contact)\n",
    "foot flat: left toe to ground[38]        start of first cluster for toe left( contact stays after this point) ( right in contact)\n",
    "mid stance: left leg at min angle[79]   \n",
    "heel off: left leg heel off ground [130]   end of fisrt cluster for heel left( heel contact gone for right)\n",
    "toe off: left leg toe off ground[178]     end of fisrt cluster for toe left( heel contact gone for right)\n",
    "midswing:right leg at min angle[198]      \n",
    "heel strike: right leg touches ground[260]  start of second cluster for heel left\n",
    "\n",
    "form angle analysis we say that the points with maximum angles end up corresponding to the points foot flat,toe off and heel strike\n",
    "[37, 40, 43, 46, 185, 187, 264, 266]\n",
    "43,186,260\n",
    "\n",
    "on verification it was found that, angle analysis gives a pretty good measure of which frame we need to consider."
   ]
  },
  {
   "cell_type": "markdown",
   "id": "695ede40",
   "metadata": {},
   "source": [
    "on analysis it can be noted that variables are:\n",
    "\n",
    "* the number of frames the vid is made into and\n",
    "* the threshold we used for different analysis like ankle knee and displacements\n",
    "these both however should not make any difference in the work done\n",
    "* next the analysis is for left leg first gait cycle  if it is right first code changes a bit"
   ]
  },
  {
   "cell_type": "markdown",
   "id": "93bb5bec",
   "metadata": {},
   "source": [
    "the original idea is that I take in clusters for the left leg heel and toe but we can simly normaalize and add angle values and check for results"
   ]
  },
  {
   "cell_type": "markdown",
   "id": "bc9b6417",
   "metadata": {},
   "source": [
    "# using clustering \n"
   ]
  },
  {
   "cell_type": "code",
   "execution_count": 139,
   "id": "3b85a279",
   "metadata": {
    "ExecuteTime": {
     "end_time": "2022-10-13T18:09:51.811751Z",
     "start_time": "2022-10-13T18:09:51.785749Z"
    }
   },
   "outputs": [
    {
     "data": {
      "text/plain": [
       "array([0, 0, 0, 0, 0, 0, 0, 0, 0, 0, 0, 0, 0, 0, 0, 0, 0, 0, 0, 0, 0, 0,\n",
       "       0, 0, 0, 0, 0, 0, 0, 1, 1, 1, 1])"
      ]
     },
     "execution_count": 139,
     "metadata": {},
     "output_type": "execute_result"
    }
   ],
   "source": [
    "from scipy.cluster.vq import kmeans, vq\n",
    "heel_frames_left_leg_disp=[float(x) for x in heel_frames_left_leg_disp]\n",
    "codebook, _ = kmeans(heel_frames_left_leg_disp, 2)\n",
    "cluster_indices_heel_left, _ = vq(heel_frames_left_leg_disp, codebook)\n",
    "cluster_indices_heel_left"
   ]
  },
  {
   "cell_type": "code",
   "execution_count": 136,
   "id": "10066de0",
   "metadata": {
    "ExecuteTime": {
     "end_time": "2022-10-13T18:05:58.200283Z",
     "start_time": "2022-10-13T18:05:58.190287Z"
    }
   },
   "outputs": [
    {
     "name": "stdout",
     "output_type": "stream",
     "text": [
      "(33,)\n",
      "(33,)\n"
     ]
    }
   ],
   "source": [
    "print(np.shape(heel_frames_left_leg_disp))\n",
    "print(np.shape(cluster_indices_toe_left))"
   ]
  },
  {
   "cell_type": "code",
   "execution_count": 176,
   "id": "b7482628",
   "metadata": {
    "ExecuteTime": {
     "end_time": "2022-10-13T18:46:15.607014Z",
     "start_time": "2022-10-13T18:46:15.591998Z"
    }
   },
   "outputs": [
    {
     "data": {
      "text/plain": [
       "[2,\n",
       " 9,\n",
       " 11,\n",
       " 21,\n",
       " 23,\n",
       " 26,\n",
       " 38,\n",
       " 40,\n",
       " 42,\n",
       " 44,\n",
       " 46,\n",
       " 50,\n",
       " 52,\n",
       " 54,\n",
       " 61,\n",
       " 69,\n",
       " 80,\n",
       " 82,\n",
       " 88,\n",
       " 90,\n",
       " 93,\n",
       " 98,\n",
       " 100,\n",
       " 102,\n",
       " 104,\n",
       " 107,\n",
       " 111,\n",
       " 113,\n",
       " 121,\n",
       " 123,\n",
       " 125,\n",
       " 128,\n",
       " 133,\n",
       " 135,\n",
       " 138,\n",
       " 145,\n",
       " 148,\n",
       " 153,\n",
       " 157,\n",
       " 160,\n",
       " 162,\n",
       " 169,\n",
       " 171,\n",
       " 178,\n",
       " 254,\n",
       " 259,\n",
       " 266,\n",
       " 270]"
      ]
     },
     "execution_count": 176,
     "metadata": {},
     "output_type": "execute_result"
    }
   ],
   "source": [
    "toe_frames_left_leg_disp"
   ]
  },
  {
   "cell_type": "code",
   "execution_count": 192,
   "id": "a85cc474",
   "metadata": {
    "ExecuteTime": {
     "end_time": "2022-10-13T18:53:35.732834Z",
     "start_time": "2022-10-13T18:53:35.710828Z"
    }
   },
   "outputs": [
    {
     "data": {
      "text/plain": [
       "array([1, 1, 1, 1, 1, 1, 1, 1, 1, 1, 1, 1, 1, 1, 1, 1, 1, 1, 0, 0])"
      ]
     },
     "execution_count": 192,
     "metadata": {},
     "output_type": "execute_result"
    }
   ],
   "source": [
    "from scipy.cluster.vq import kmeans, vq\n",
    "t=np.shape(toe_frames_left_leg_disp)[0]\n",
    "toe_frames_left_leg_disp=[float(x) for x in toe_frames_left_leg_disp[int(t/2):]]\n",
    "codebook, _ = kmeans(toe_frames_left_leg_disp, 2,seed=250)\n",
    "cluster_indices_toe_left, _ = vq(toe_frames_left_leg_disp, codebook)\n",
    "cluster_indices_toe_left"
   ]
  },
  {
   "cell_type": "code",
   "execution_count": 201,
   "id": "b9a1bb0e",
   "metadata": {
    "ExecuteTime": {
     "end_time": "2022-10-13T18:57:43.433190Z",
     "start_time": "2022-10-13T18:57:43.429187Z"
    }
   },
   "outputs": [],
   "source": [
    "def Average(lst):\n",
    "    return sum(lst) / len(lst)"
   ]
  },
  {
   "cell_type": "code",
   "execution_count": 207,
   "id": "f8e36c48",
   "metadata": {
    "ExecuteTime": {
     "end_time": "2022-10-13T19:01:04.415102Z",
     "start_time": "2022-10-13T19:01:04.395101Z"
    }
   },
   "outputs": [
    {
     "name": "stdout",
     "output_type": "stream",
     "text": [
      "21 111.0 130 178.0 260\n"
     ]
    }
   ],
   "source": [
    "# np.where(i==1,)\n",
    "in1_heel=np.where(cluster_indices_heel_left!=cluster_indices_heel_left[0])[0][0]\n",
    "in1_toe=np.where(cluster_indices_toe_left!=cluster_indices_toe_left[0])[0][0]\n",
    "# getting first index of the last cluster by seeing that the cluster value is same\n",
    "# in1_toe=np.where(cluster_indices_toe_left==1)\n",
    "# in0_toe=np.where(cluster_indices_toe_left==0)\n",
    "# # in0_heel\n",
    "# print(in0_heel[0][0],in1_heel[0][0],in1_toe[0][0],in1_toe[0][0])\n",
    "# print(in1_heel,in1_toe)\n",
    "final_list=[]\n",
    "heel_strike1=heel_frames_left_leg_disp[0]\n",
    "final_list.append(heel_frames_left_leg_disp[0])\n",
    "\n",
    "foot_flat=toe_frames_left_leg_disp[0]\n",
    "final_list.append(toe_frames_left_leg_disp[0])\n",
    "\n",
    "mid_stance=Average(frames_knee_left_leg)\n",
    "\n",
    "heel_off=heel_frames_left_leg_disp[in1_heel-1]\n",
    "toe_off=toe_frames_left_leg_disp[in1_toe-1]\n",
    "mid_swing=Average(frames_knee_right_leg)\n",
    "heel_strike_2=heel_frames_left_leg_disp[in1_heel]\n",
    "print(heel_strike1,foot_flat,heel_off,toe_off,heel_strike_2)"
   ]
  },
  {
   "cell_type": "code",
   "execution_count": 212,
   "id": "07adea8b",
   "metadata": {
    "ExecuteTime": {
     "end_time": "2022-10-13T19:05:44.981640Z",
     "start_time": "2022-10-13T19:05:44.958654Z"
    },
    "scrolled": true
   },
   "outputs": [
    {
     "name": "stdout",
     "output_type": "stream",
     "text": [
      "21 111.0 130 178.0 260\n"
     ]
    },
    {
     "data": {
      "text/plain": [
       "{'heel_strike1': 21,\n",
       " 'foot_flat': 111.0,\n",
       " 'mid_stance': 197.0,\n",
       " 'heel_off': 130,\n",
       " 'toe_off': 178.0,\n",
       " 'mid_swing': 79.5,\n",
       " 'heel_strike_2': 260}"
      ]
     },
     "execution_count": 212,
     "metadata": {},
     "output_type": "execute_result"
    }
   ],
   "source": [
    "# np.where(i==1,)\n",
    "in1_heel=np.where(cluster_indices_heel_left!=cluster_indices_heel_left[0])[0][0]\n",
    "in1_toe=np.where(cluster_indices_toe_left!=cluster_indices_toe_left[0])[0][0]\n",
    "# getting first index of the last cluster by seeing that the cluster value is same\n",
    "# in1_toe=np.where(cluster_indices_toe_left==1)\n",
    "# in0_toe=np.where(cluster_indices_toe_left==0)\n",
    "# # in0_heel\n",
    "# print(in0_heel[0][0],in1_heel[0][0],in1_toe[0][0],in1_toe[0][0])\n",
    "# print(in1_heel,in1_toe)\n",
    "\n",
    "a=heel_strike1=heel_frames_left_leg_disp[0]\n",
    "\n",
    "b=foot_flat=toe_frames_left_leg_disp[0]\n",
    "\n",
    "c=mid_stance=Average(frames_knee_left_leg)\n",
    "\n",
    "d=heel_off=heel_frames_left_leg_disp[in1_heel-1]\n",
    "\n",
    "e=toe_off=toe_frames_left_leg_disp[in1_toe-1]\n",
    "\n",
    "f=mid_swing=Average(frames_knee_right_leg)\n",
    "\n",
    "g=heel_strike_2=heel_frames_left_leg_disp[in1_heel]\n",
    "\n",
    "print(heel_strike1,foot_flat,heel_off,toe_off,heel_strike_2)\n",
    "\n",
    "final_dic={\"heel_strike1\":a,\"foot_flat\":b,\"mid_stance\":c,\"heel_off\":d,\"toe_off\":e,\"mid_swing\":f,\"heel_strike_2\":g}\n",
    "final_dic"
   ]
  },
  {
   "cell_type": "markdown",
   "id": "3b860960",
   "metadata": {},
   "source": [
    "# saving into images and video"
   ]
  },
  {
   "cell_type": "code",
   "execution_count": 222,
   "id": "2c8b4d48",
   "metadata": {
    "ExecuteTime": {
     "end_time": "2022-10-13T19:13:30.185763Z",
     "start_time": "2022-10-13T19:13:29.717131Z"
    }
   },
   "outputs": [],
   "source": [
    "from PIL import Image\n",
    "final_lis=final_dic.values()\n",
    "for i in range(len(y_)):\n",
    "    if[i==final_lis]:\n",
    "        im1=Image.open(\"../../frame_images_real/frame\"+str(i)+\".jpg\")\n",
    "        im2=im1.copy()\n"
   ]
  },
  {
   "cell_type": "code",
   "execution_count": 235,
   "id": "a4e86c40",
   "metadata": {
    "ExecuteTime": {
     "end_time": "2022-10-13T19:19:57.849430Z",
     "start_time": "2022-10-13T19:19:57.829394Z"
    }
   },
   "outputs": [
    {
     "data": {
      "text/plain": [
       "[21, 111, 197, 130, 178, 79, 260]"
      ]
     },
     "execution_count": 235,
     "metadata": {},
     "output_type": "execute_result"
    }
   ],
   "source": [
    "final_lis=[int(x) for x in final_lis]\n",
    "final_lis"
   ]
  },
  {
   "cell_type": "code",
   "execution_count": 259,
   "id": "f3427813",
   "metadata": {
    "ExecuteTime": {
     "end_time": "2022-10-14T06:23:49.271471Z",
     "start_time": "2022-10-14T06:23:49.259475Z"
    }
   },
   "outputs": [
    {
     "name": "stdout",
     "output_type": "stream",
     "text": [
      "278\n"
     ]
    }
   ],
   "source": [
    "print(len(y_))"
   ]
  },
  {
   "cell_type": "code",
   "execution_count": 260,
   "id": "7eaa3c9e",
   "metadata": {
    "ExecuteTime": {
     "end_time": "2022-10-14T06:27:16.014277Z",
     "start_time": "2022-10-14T06:27:15.791282Z"
    }
   },
   "outputs": [],
   "source": [
    "import shutil\n",
    "from string import ascii_lowercase as alc\n",
    "final_lis=list(final_dic.values())\n",
    "for i in range(len(y_)):\n",
    "#     print(i)\n",
    "    if(i in final_lis):\n",
    "        \n",
    "        for alph in alc:\n",
    "#         print(\"ok\")\n",
    "            shutil.copy(\"../../frame_images_real/frame\"+str(i)+\".jpg\",\"../../frame_images_real/frame\"+str(i)+alph+\".jpg\")\n",
    "#             shutil.copy(\"../../frame_images_real/frame\"+str(i)+\".jpg\",\"../../frame_images_real/frame\"+str(i)+\"b.jpg\")\n",
    "#             shutil.copy(\"../../frame_images_real/frame\"+str(i)+\".jpg\",\"../../frame_images_real/frame\"+str(i)+\"c.jpg\")\n",
    "\n",
    "#             shutil.copy(\"../../frame_images_real/frame\"+str(i)+\".jpg\",\"../../frame_images_real/frame\"+str(i)+\"d.jpg\")\n",
    "\n",
    "#             shutil.copy(\"../../frame_images_real/frame\"+str(i)+\".jpg\",\"../../frame_images_real/frame\"+str(i)+\"e.jpg\")\n",
    "\n",
    "#             shutil.copy(\"../../frame_images_real/frame\"+str(i)+\".jpg\",\"../../frame_images_real/frame\"+str(i)+\"f.jpg\")\n",
    "\n",
    "#             shutil.copy(\"../../frame_images_real/frame\"+str(i)+\".jpg\",\"../../frame_images_real/frame\"+str(i)+\"g.jpg\")\n",
    "\n"
   ]
  },
  {
   "cell_type": "code",
   "execution_count": 258,
   "id": "296a2481",
   "metadata": {
    "ExecuteTime": {
     "end_time": "2022-10-13T19:37:39.969642Z",
     "start_time": "2022-10-13T19:37:38.903626Z"
    }
   },
   "outputs": [
    {
     "name": "stdout",
     "output_type": "stream",
     "text": [
      "320\n"
     ]
    }
   ],
   "source": [
    "import cv2\n",
    "import numpy as np\n",
    "import glob\n",
    "\n",
    "img_array = []\n",
    "for filename in glob.glob('../../frame_images_real/*.jpg'):\n",
    "    img = cv2.imread(filename)\n",
    "    height, width, layers = img.shape\n",
    "    size = (width,height)\n",
    "    img_array.append(img)\n",
    "print(len(img_array))\n",
    "\n",
    "\n",
    "out = cv2.VideoWriter('../../frame_images_real/final_out.avi',cv2.VideoWriter_fourcc('M','J','P','G'), 15, size)\n",
    " \n",
    "for i in range(len(img_array)):\n",
    "    out.write(img_array[i])\n",
    "out.release()"
   ]
  },
  {
   "cell_type": "code",
   "execution_count": 266,
   "id": "dc94f7bd",
   "metadata": {
    "ExecuteTime": {
     "end_time": "2022-10-14T06:34:12.138549Z",
     "start_time": "2022-10-14T06:34:12.114551Z"
    }
   },
   "outputs": [
    {
     "ename": "SyntaxError",
     "evalue": "positional argument follows keyword argument (1650039279.py, line 11)",
     "output_type": "error",
     "traceback": [
      "\u001b[1;36m  Input \u001b[1;32mIn [266]\u001b[1;36m\u001b[0m\n\u001b[1;33m    video = cv2.VideoWriter(video_name,fps= 15,(width,height))\u001b[0m\n\u001b[1;37m                                               ^\u001b[0m\n\u001b[1;31mSyntaxError\u001b[0m\u001b[1;31m:\u001b[0m positional argument follows keyword argument\n"
     ]
    }
   ],
   "source": [
    "import cv2\n",
    "import os\n",
    "\n",
    "image_folder = '../../frame_images_real/'\n",
    "video_name = '../../frame_images_real/final_out.avi'\n",
    "\n",
    "images = [img for img in os.listdir(image_folder) if img.endswith(\".jpg\")]\n",
    "frame = cv2.imread(os.path.join(image_folder, images[0]))\n",
    "height, width, layers = frame.shape\n",
    "\n",
    "video = cv2.VideoWriter(video_name,cv2.VideoWriter_fourcc('M','J','P','G'),15,(width,height))\n",
    "\n",
    "for image in images:\n",
    "    video.write(cv2.imread(os.path.join(image_folder, image)))\n",
    "\n",
    "cv2.destroyAllWindows()\n",
    "video.release()"
   ]
  },
  {
   "cell_type": "markdown",
   "id": "cd9b4143",
   "metadata": {
    "heading_collapsed": true
   },
   "source": [
    "# incorporation of both ang and disp in peak calculation"
   ]
  },
  {
   "cell_type": "code",
   "execution_count": 108,
   "id": "16a0b5b6",
   "metadata": {
    "ExecuteTime": {
     "end_time": "2022-10-12T15:11:37.689920Z",
     "start_time": "2022-10-12T15:11:37.479919Z"
    },
    "hidden": true
   },
   "outputs": [
    {
     "name": "stdout",
     "output_type": "stream",
     "text": [
      "[14 54 93]\n"
     ]
    },
    {
     "data": {
      "text/plain": [
       "[<matplotlib.lines.Line2D at 0x178e5c723d0>]"
      ]
     },
     "execution_count": 108,
     "metadata": {},
     "output_type": "execute_result"
    },
    {
     "data": {
      "image/png": "[encoded data removed]",
      "text/plain": [
       "<Figure size 720x720 with 1 Axes>"
      ]
     },
     "metadata": {
      "needs_background": "light"
     },
     "output_type": "display_data"
    }
   ],
   "source": [
    "# for right leg\n",
    "# disp is x axis and angle is y axis\n",
    "\n",
    "import matplotlib.pyplot as plt\n",
    "import numpy as np\n",
    "import peakutils\n",
    "\n",
    "# define data values\n",
    "x1 = body_part_y[24]   # X-axis points   # these are displacement\n",
    "x2 = body_part_y[21]  \n",
    "y1_ = angle_list_right  # y-axis points  # these are angles\n",
    "y2_ = angle_list_left \n",
    "# f = plt.figure()\n",
    "# f.set_figwidth(10)\n",
    "# f.set_figheight(10)\n",
    "negx1 = [ -x for x in x1]\n",
    "index1 = peakutils.indexes(negx1,thres=0.7,min_dist=1)\n",
    "negx2 = [ -x for x in x2]\n",
    "index2 = peakutils.indexes(negx2,thres=0.7,min_dist=1)\n",
    "y1=[ -y for y in y1_]\n",
    "y2=[ -y for y in y2_]\n",
    "print(index1)\n",
    "plt.figure(figsize=(10,10))\n",
    "plt.plot(x1, y1, label = \"line 1\") # yellow left leg\n",
    "plt.plot(x2, y2, label = \"line 2\")  # blue right leg\n"
   ]
  },
  {
   "cell_type": "code",
   "execution_count": 59,
   "id": "f86072a4",
   "metadata": {
    "ExecuteTime": {
     "end_time": "2022-10-12T14:10:28.103536Z",
     "start_time": "2022-10-12T14:10:28.084525Z"
    },
    "hidden": true
   },
   "outputs": [
    {
     "name": "stdout",
     "output_type": "stream",
     "text": [
      "(128,)\n",
      "(128,)\n",
      "(128,)\n",
      "(128,)\n"
     ]
    }
   ],
   "source": [
    "# all these value are for \n",
    "print(np.shape(negx1))\n",
    "print(np.shape(negx2))\n",
    "print(np.shape(y1))\n",
    "print(np.shape(y2))"
   ]
  },
  {
   "cell_type": "markdown",
   "id": "90e18813",
   "metadata": {
    "heading_collapsed": true,
    "hidden": true
   },
   "source": [
    "## trying to find relation ship and using for peaks\n"
   ]
  },
  {
   "cell_type": "code",
   "execution_count": 67,
   "id": "691dbbad",
   "metadata": {
    "ExecuteTime": {
     "end_time": "2022-10-12T14:21:05.805683Z",
     "start_time": "2022-10-12T14:21:05.793679Z"
    },
    "hidden": true
   },
   "outputs": [],
   "source": [
    "def ang_to_disp(arr1):\n",
    "    arr2=[]\n",
    "    for i in range(len(arr1)):\n",
    "        arr2.append(arr1[i])\n",
    "        \n",
    "    return np.arr2    "
   ]
  },
  {
   "cell_type": "code",
   "execution_count": 68,
   "id": "ca99976d",
   "metadata": {
    "ExecuteTime": {
     "end_time": "2022-10-12T14:21:07.246241Z",
     "start_time": "2022-10-12T14:21:07.178243Z"
    },
    "hidden": true
   },
   "outputs": [
    {
     "ename": "NameError",
     "evalue": "name 'arr2' is not defined",
     "output_type": "error",
     "traceback": [
      "\u001b[1;31m---------------------------------------------------------------------------\u001b[0m",
      "\u001b[1;31mNameError\u001b[0m                                 Traceback (most recent call last)",
      "Input \u001b[1;32mIn [68]\u001b[0m, in \u001b[0;36m<cell line: 11>\u001b[1;34m()\u001b[0m\n\u001b[0;32m      9\u001b[0m x2_ang\u001b[38;5;241m=\u001b[39m angle_list_right\n\u001b[0;32m     10\u001b[0m \u001b[38;5;66;03m# taking summation in displacement\u001b[39;00m\n\u001b[1;32m---> 11\u001b[0m x1\u001b[38;5;241m=\u001b[39mx1_disp\u001b[38;5;241m+\u001b[39m\u001b[43mang_to_disp\u001b[49m\u001b[43m(\u001b[49m\u001b[43mx1_ang\u001b[49m\u001b[43m)\u001b[49m\n\u001b[0;32m     12\u001b[0m x2\u001b[38;5;241m=\u001b[39mx2_disp\u001b[38;5;241m+\u001b[39mang_to_disp(x2_ang)\n\u001b[0;32m     14\u001b[0m y\u001b[38;5;241m=\u001b[39my_  \u001b[38;5;66;03m# Y-axis points\u001b[39;00m\n",
      "Input \u001b[1;32mIn [67]\u001b[0m, in \u001b[0;36mang_to_disp\u001b[1;34m(arr1)\u001b[0m\n\u001b[0;32m      1\u001b[0m \u001b[38;5;28;01mdef\u001b[39;00m \u001b[38;5;21mang_to_disp\u001b[39m(arr1):\n\u001b[0;32m      2\u001b[0m     \u001b[38;5;28;01mfor\u001b[39;00m i \u001b[38;5;129;01min\u001b[39;00m \u001b[38;5;28mrange\u001b[39m(\u001b[38;5;28mlen\u001b[39m(arr1)):\n\u001b[1;32m----> 3\u001b[0m         \u001b[43marr2\u001b[49m[i]\u001b[38;5;241m=\u001b[39marr1[i]\n\u001b[0;32m      5\u001b[0m     \u001b[38;5;28;01mreturn\u001b[39;00m np\u001b[38;5;241m.\u001b[39marr2\n",
      "\u001b[1;31mNameError\u001b[0m: name 'arr2' is not defined"
     ]
    }
   ],
   "source": [
    "import matplotlib.pyplot as plt\n",
    "import numpy as np\n",
    "import peakutils\n",
    "\n",
    "# define data values\n",
    "x1_disp = body_part_y[24]   # X-axis points \n",
    "x2_disp = body_part_y[21]\n",
    "x1_ang= angle_list_left\n",
    "x2_ang= angle_list_right\n",
    "# taking summation in displacement\n",
    "x1=x1_disp+ang_to_disp(x1_ang)\n",
    "x2=x2_disp+ang_to_disp(x2_ang)\n",
    "\n",
    "y=y_  # Y-axis points\n",
    "# f = plt.figure()\n",
    "# f.set_figwidth(10)\n",
    "# f.set_figheight(10)\n",
    "negx1 = [ -x for x in x1]\n",
    "index1 = peakutils.indexes(negx1,thres=0.7,min_dist=1)\n",
    "negx2 = [ -x for x in x2]\n",
    "index2 = peakutils.indexes(negx2,thres=0.7,min_dist=1)\n",
    "print(index1)\n",
    "plt.figure(figsize=(10,10))\n",
    "plt.plot(x1, y, label = \"line 1\") # yellow left leg\n",
    "plt.plot(x2, y, label = \"line 2\")  # blue right leg\n",
    "frames_left_leg_disp=[]\n",
    "frames_right_leg_disp=[]\n",
    "for ind in index1:\n",
    "    plt.plot(x1[ind],y[ind], marker=\"o\", ls=\"\", ms=10 )\n",
    "    frames_left_leg_disp.append(y[ind])\n",
    "    \n",
    "for ind in index2:\n",
    "    plt.plot(x2[ind],y[ind], marker=\"o\", ls=\"\", ms=10 )\n",
    "    frames_right_leg_disp.append(y[ind])"
   ]
  },
  {
   "cell_type": "markdown",
   "id": "728f1a62",
   "metadata": {
    "hidden": true
   },
   "source": [
    "it was hard to find the relationship"
   ]
  },
  {
   "cell_type": "markdown",
   "id": "fe9a541f",
   "metadata": {
    "heading_collapsed": true,
    "hidden": true
   },
   "source": [
    "## using normalization"
   ]
  },
  {
   "cell_type": "code",
   "execution_count": 99,
   "id": "41de1a54",
   "metadata": {
    "ExecuteTime": {
     "end_time": "2022-10-12T15:08:36.640439Z",
     "start_time": "2022-10-12T15:08:36.617443Z"
    },
    "hidden": true
   },
   "outputs": [
    {
     "data": {
      "text/plain": [
       "[176.13368996929938,\n",
       " 174.38566349660252,\n",
       " 174.385663504336,\n",
       " 176.96316114283007,\n",
       " 179.9149424054699,\n",
       " 178.96602507531216,\n",
       " 176.78076595061816,\n",
       " 174.65691432928418,\n",
       " 179.5484914882475,\n",
       " 178.7477760272681,\n",
       " 174.64393468786878,\n",
       " 174.4757585015398,\n",
       " 174.80794603312432,\n",
       " 174.73764107668595,\n",
       " 179.89012026315586,\n",
       " 178.44278225349697,\n",
       " 176.49521163729554,\n",
       " 177.23397235874472,\n",
       " 171.12181667993767,\n",
       " 178.20328764167542,\n",
       " 179.27164021484822,\n",
       " 177.8770398217298,\n",
       " 172.28432945260664,\n",
       " 170.45614007814578,\n",
       " 171.4718101260528,\n",
       " 172.05434893916612,\n",
       " 177.71480808729353,\n",
       " 178.55485254914055,\n",
       " 179.27543333819509,\n",
       " 175.03807650206775,\n",
       " 170.36999193720243,\n",
       " 151.92813235940258,\n",
       " 139.53483210574504,\n",
       " 124.09188392871427,\n",
       " 115.90838007762187,\n",
       " 118.43931319225982,\n",
       " 119.14792360716379,\n",
       " 117.3783242599481,\n",
       " 126.09605786297634,\n",
       " 134.0540699910639,\n",
       " 135.83133878453924,\n",
       " 146.30260054109775,\n",
       " 170.50415423107373,\n",
       " 178.90868860311508,\n",
       " 179.80532901899812,\n",
       " 171.98995935369138,\n",
       " 178.43275283914468,\n",
       " 179.58680440045393,\n",
       " 177.80104560281785,\n",
       " 164.03348114596258,\n",
       " 169.79684273616505,\n",
       " 171.03266514913628,\n",
       " 176.7968165755846,\n",
       " 173.3010048822274,\n",
       " 169.74148565610986,\n",
       " 178.1421130070494,\n",
       " 170.1473992236172,\n",
       " 177.61719761715486,\n",
       " 176.34122406609555,\n",
       " 176.1911575516361,\n",
       " 178.80280695078793,\n",
       " 175.42201441291178,\n",
       " 174.39778153226587,\n",
       " 175.56074492027398,\n",
       " 175.11407576930256,\n",
       " 169.911545711736,\n",
       " 174.2751595202158,\n",
       " 156.1740712527668,\n",
       " 155.9858410707964,\n",
       " 142.87181529894306,\n",
       " 129.59139192329647,\n",
       " 124.73825651390693,\n",
       " 112.9669951675327,\n",
       " 118.07309026614868,\n",
       " 105.26747837081693,\n",
       " 115.605163892267,\n",
       " 119.23561425644189,\n",
       " 131.72408530089538,\n",
       " 134.134768769178,\n",
       " 148.27242896077144,\n",
       " 155.37636615355373,\n",
       " 163.46041795497848,\n",
       " 176.8663541540494,\n",
       " 171.4093086713559,\n",
       " 174.86864938953244,\n",
       " 175.743148663536,\n",
       " 177.1242205963616,\n",
       " 179.7249496997487,\n",
       " 175.0374272225124,\n",
       " 173.7402189681237,\n",
       " 171.41405201855994,\n",
       " 172.00859885667612,\n",
       " 168.13794590726792,\n",
       " 174.36260592139064,\n",
       " 172.0754613350001,\n",
       " 171.5585036576813,\n",
       " 163.46492300321256,\n",
       " 166.85745424485052,\n",
       " 171.79063724000284,\n",
       " 172.64204626944047,\n",
       " 175.2581193724625,\n",
       " 178.61761669714636,\n",
       " 177.13080054512878,\n",
       " 174.13535530779788,\n",
       " 166.62823750769826,\n",
       " 165.75195516161565,\n",
       " 161.32196828684494,\n",
       " 147.8762263497222,\n",
       " 145.7669474462122,\n",
       " 130.80174780158228,\n",
       " 120.02439191143226,\n",
       " 108.96981489827262,\n",
       " 101.41879284895664,\n",
       " 113.18737962516205,\n",
       " 104.9903774701669,\n",
       " 102.15733352582028,\n",
       " 113.3986985896688,\n",
       " 119.77370426714059,\n",
       " 131.203540938484,\n",
       " 146.46301850555025,\n",
       " 158.11254142973345,\n",
       " 163.36731940215702,\n",
       " 170.66541280239528,\n",
       " 169.82635044044343,\n",
       " 168.62234407767798,\n",
       " 158.40893456386294,\n",
       " 160.07180784850686,\n",
       " 164.82237529844133]"
      ]
     },
     "execution_count": 99,
     "metadata": {},
     "output_type": "execute_result"
    }
   ],
   "source": [
    "angle_list_left"
   ]
  },
  {
   "cell_type": "code",
   "execution_count": 98,
   "id": "ebe83c08",
   "metadata": {
    "ExecuteTime": {
     "end_time": "2022-10-12T15:08:34.948086Z",
     "start_time": "2022-10-12T15:08:34.926891Z"
    },
    "hidden": true
   },
   "outputs": [
    {
     "data": {
      "text/plain": [
       "[169.86703613832188,\n",
       " 174.5543472167273,\n",
       " 174.5543472167273,\n",
       " 174.08076279439328,\n",
       " 174.32296925955458,\n",
       " 175.25718045394686,\n",
       " 172.6760064983381,\n",
       " 169.38733865060192,\n",
       " 171.57557411538264,\n",
       " 160.35867090467076,\n",
       " 156.07772132367802,\n",
       " 147.92692945448604,\n",
       " 131.29190223961476,\n",
       " 125.25864249236449,\n",
       " 109.52751990385947,\n",
       " 113.9872446852211,\n",
       " 115.81006835244601,\n",
       " 114.41786173925652,\n",
       " 121.04643186447319,\n",
       " 137.19454943974407,\n",
       " 134.6013585802535,\n",
       " 149.6198771722951,\n",
       " 158.54719630087763,\n",
       " 165.57878328400645,\n",
       " 173.4224047300853,\n",
       " 179.42883347857423,\n",
       " 176.2866464382631,\n",
       " 171.81956057591273,\n",
       " 172.4070737464011,\n",
       " 163.54218904490372,\n",
       " 166.83923594511063,\n",
       " 169.74514114324504,\n",
       " 168.27623032767625,\n",
       " 167.5748940671113,\n",
       " 170.49314073867382,\n",
       " 168.18711734859707,\n",
       " 170.32450078721112,\n",
       " 173.6114450059706,\n",
       " 172.17153701997395,\n",
       " 173.91206104361433,\n",
       " 176.74481066789397,\n",
       " 179.835753338249,\n",
       " 174.300052928226,\n",
       " 174.3734520742617,\n",
       " 174.20160616467413,\n",
       " 173.9516880389603,\n",
       " 173.05466629746138,\n",
       " 165.25293642849994,\n",
       " 167.41727144672473,\n",
       " 158.04231049336977,\n",
       " 143.23576786905676,\n",
       " 131.04373260139405,\n",
       " 125.07964785747491,\n",
       " 110.95835324606696,\n",
       " 110.73521279318335,\n",
       " 108.94126704766623,\n",
       " 114.95895166377075,\n",
       " 118.04421860646411,\n",
       " 126.43231470668287,\n",
       " 133.62246040267212,\n",
       " 142.83286741864387,\n",
       " 156.39568655748917,\n",
       " 170.91462348070573,\n",
       " 176.51539870276963,\n",
       " 178.64456520234845,\n",
       " 179.73168988020765,\n",
       " 173.25017133289066,\n",
       " 174.96166348323794,\n",
       " 162.11290648577656,\n",
       " 163.988887389324,\n",
       " 162.65301369967656,\n",
       " 154.36987641602806,\n",
       " 160.27205154334092,\n",
       " 162.4788006771516,\n",
       " 169.03145940255658,\n",
       " 168.52152289032196,\n",
       " 168.62968536167548,\n",
       " 169.84451069901348,\n",
       " 171.56060178990714,\n",
       " 165.230993689886,\n",
       " 164.95482223386014,\n",
       " 167.21950791203503,\n",
       " 169.67382027151132,\n",
       " 172.1903761454174,\n",
       " 172.78370673310553,\n",
       " 165.77085061431433,\n",
       " 164.06863984602128,\n",
       " 159.05851020920326,\n",
       " 150.37448987649333,\n",
       " 143.33653699932015,\n",
       " 127.02944558648358,\n",
       " 118.55660967432797,\n",
       " 111.3940255112099,\n",
       " 108.71900019007737,\n",
       " 117.83716028694121,\n",
       " 113.96157921251766,\n",
       " 123.74374018468183,\n",
       " 125.36660475336625,\n",
       " 141.50586344853147,\n",
       " 149.48288294952064,\n",
       " 157.20062813228103,\n",
       " 167.1193538713627,\n",
       " 175.55590415655854,\n",
       " 177.89043399320738,\n",
       " 171.80867033179092,\n",
       " 179.6897623656558,\n",
       " 169.06606728828993,\n",
       " 171.73270475537922,\n",
       " 166.45604735333356,\n",
       " 164.4298565355807,\n",
       " 162.00700238141695,\n",
       " 168.537694937718,\n",
       " 171.80529166245515,\n",
       " 172.48176054480038,\n",
       " 174.11158573905357,\n",
       " 179.50086598857018,\n",
       " 174.0806153492609,\n",
       " 168.07262591107974,\n",
       " 172.21877737228917,\n",
       " 172.26071077431337,\n",
       " 172.835704060151,\n",
       " 177.7347136035405,\n",
       " 176.15580877684246,\n",
       " 173.95441986741739,\n",
       " 167.81171198393238,\n",
       " 166.73141635156364,\n",
       " 164.91395501784862,\n",
       " 160.23931141601173]"
      ]
     },
     "execution_count": 98,
     "metadata": {},
     "output_type": "execute_result"
    }
   ],
   "source": [
    "angle_list_right"
   ]
  },
  {
   "cell_type": "code",
   "execution_count": 104,
   "id": "dddc4888",
   "metadata": {
    "ExecuteTime": {
     "end_time": "2022-10-12T15:10:28.371449Z",
     "start_time": "2022-10-12T15:10:28.364448Z"
    },
    "hidden": true
   },
   "outputs": [],
   "source": [
    "import numpy as np\n",
    "from sklearn.preprocessing import normalize\n",
    "\n",
    "a1 = angle_list_left\n",
    "a2= angle_list_right\n",
    "a3=body_part_y[24] # left\n",
    "a4=body_part_y[21] #right\n",
    "# print(angle_list_left)\n",
    "norm1 = a1 / np.linalg.norm(a1) *10\n",
    "norm2 = a2 / np.linalg.norm(a2) *10\n",
    "norm3 = a3/ np.linalg.norm(a3) *10\n",
    "norm4 = a4/ np.linalg.norm(a4) *10\n"
   ]
  },
  {
   "cell_type": "code",
   "execution_count": 80,
   "id": "a88b8c8f",
   "metadata": {
    "ExecuteTime": {
     "end_time": "2022-10-12T14:51:29.440168Z",
     "start_time": "2022-10-12T14:51:29.420176Z"
    },
    "hidden": true
   },
   "outputs": [
    {
     "data": {
      "text/plain": [
       "array([[0.096376  , 0.09541952, 0.09541952, 0.09682987, 0.09844501,\n",
       "        0.09792578, 0.09673006, 0.09556794, 0.09824449, 0.09780636,\n",
       "        0.09556084, 0.09546882, 0.09565059, 0.09561212, 0.09843143,\n",
       "        0.09763948, 0.09657382, 0.09697805, 0.09363363, 0.09750843,\n",
       "        0.09809301, 0.09732992, 0.09426973, 0.09326939, 0.09382513,\n",
       "        0.09414389, 0.09724115, 0.0977008 , 0.09809508, 0.09577651,\n",
       "        0.09322225, 0.08313132, 0.07635001, 0.06790001, 0.0634222 ,\n",
       "        0.06480706, 0.0651948 , 0.06422652, 0.06899664, 0.07335107,\n",
       "        0.07432355, 0.08005317, 0.09329566, 0.09789441, 0.09838503,\n",
       "        0.09410865, 0.09763399, 0.09826546, 0.09728834, 0.08975506,\n",
       "        0.09290863, 0.09358485, 0.09673885, 0.09482602, 0.09287834,\n",
       "        0.09747496, 0.09310045, 0.09718774, 0.09648956, 0.09640744,\n",
       "        0.09783647, 0.09598659, 0.09542615, 0.0960625 , 0.09581809,\n",
       "        0.0929714 , 0.09535906, 0.08545459, 0.0853516 , 0.07817592,\n",
       "        0.07090921, 0.06825369, 0.06181275, 0.06460668, 0.05759976,\n",
       "        0.06325629, 0.06524278, 0.07207616, 0.07339523, 0.08113101,\n",
       "        0.08501811, 0.0894415 , 0.0967769 , 0.09379094, 0.0956838 ,\n",
       "        0.09616231, 0.09691799, 0.09834105, 0.09577615, 0.09506635,\n",
       "        0.09379353, 0.09411885, 0.09200093, 0.09540691, 0.09415544,\n",
       "        0.09387257, 0.08944396, 0.09130027, 0.09399959, 0.09446546,\n",
       "        0.09589691, 0.09773514, 0.09692159, 0.09528256, 0.09117485,\n",
       "        0.09069537, 0.08827139, 0.08091421, 0.07976007, 0.07157148,\n",
       "        0.06567438, 0.05962559, 0.05549386, 0.06193334, 0.05744814,\n",
       "        0.05589797, 0.06204896, 0.06553721, 0.07179133, 0.08014094,\n",
       "        0.08651527, 0.08939056, 0.09338389, 0.09292478, 0.09226598,\n",
       "        0.08667745, 0.08758734, 0.09018673]])"
      ]
     },
     "execution_count": 80,
     "metadata": {},
     "output_type": "execute_result"
    }
   ],
   "source": [
    "# from sklearn.preprocessing import Normalizer\n",
    "# X=np.array(angle_list_left)\n",
    "# X=X.reshape(1,-1)\n",
    "# transformer = Normalizer().fit(X)  # fit does nothing.\n",
    "# transformer.transform(X)\n"
   ]
  },
  {
   "cell_type": "code",
   "execution_count": 107,
   "id": "e0059348",
   "metadata": {
    "ExecuteTime": {
     "end_time": "2022-10-12T15:11:17.345701Z",
     "start_time": "2022-10-12T15:11:17.148168Z"
    },
    "hidden": true
   },
   "outputs": [
    {
     "name": "stdout",
     "output_type": "stream",
     "text": [
      "[1.86067372 1.85517248 1.85517248 1.86940108 1.88557485 1.88874659\n",
      " 1.88097809 1.86922726 1.89607323 1.89170085 1.87330918 1.87246049\n",
      " 1.87426025 1.86970027 1.89792466 1.88992472 1.87945137 1.88743652\n",
      " 1.84159609 1.86345077 1.88195651 1.87438818 1.85220389 1.84636684\n",
      " 1.85599233 1.85495985 1.88181531 1.87797631 1.87375185 1.84625669\n",
      " 1.8039414  1.69452507 1.60982755 1.50464781 1.45969983 1.47343224\n",
      " 1.4774571  1.46791287 1.52389768 1.60516707 1.63170476 1.69737832\n",
      " 1.83820298 1.88418158 1.88497507 1.84213083 1.88575266 1.89626052\n",
      " 1.89071822 1.80700364 1.83850804 1.8410591  1.87677887 1.85768195\n",
      " 1.83400303 1.87998707 1.84040385 1.86019019 1.85770553 1.8650964\n",
      " 1.88352622 1.86513018 1.85945878 1.86164247 1.85512593 1.82650251\n",
      " 1.84607867 1.74289446 1.72510078 1.64075115 1.5471494  1.50386179\n",
      " 1.43518767 1.45892484 1.38879312 1.44545672 1.47792351 1.60072832\n",
      " 1.60148699 1.69956922 1.74281667 1.79130188 1.8647542  1.83887766\n",
      " 1.85781973 1.86276123 1.87436824 1.88863902 1.8672324  1.85180617\n",
      " 1.84320407 1.8422507  1.81701686 1.85099619 1.84269255 1.83569307\n",
      " 1.7870216  1.80554446 1.83272985 1.83737513 1.8516807  1.87010774\n",
      " 1.86178003 1.84535393 1.80007472 1.79114487 1.75850532 1.67239874\n",
      " 1.65219379 1.54131335 1.45706261 1.38826435 1.34673692 1.41544112\n",
      " 1.38733947 1.38024645 1.41243105 1.51462327 1.58947133 1.67305236\n",
      " 1.7492813  1.77808779 1.81384139 1.81343895 1.81097257 1.75498003\n",
      " 1.75994381 1.78602267]\n",
      "[1.84825198 1.87409772 1.87409772 1.86757645 1.86888269 1.86994714\n",
      " 1.84327449 1.82906015 1.82874073 1.76260881 1.73457849 1.66906\n",
      " 1.56852044 1.51443926 1.41503831 1.44798793 1.47030215 1.47514908\n",
      " 1.53652688 1.63851011 1.63229676 1.73197501 1.78974269 1.82886234\n",
      " 1.87221975 1.90533168 1.88808743 1.86336898 1.87069283 1.82161766\n",
      " 1.83590482 1.85196364 1.84381945 1.83989557 1.85604035 1.8432775\n",
      " 1.85509756 1.87310393 1.86121759 1.87075609 1.88638335 1.90357699\n",
      " 1.87291814 1.87310905 1.8721749  1.87080836 1.85362159 1.80213626\n",
      " 1.80595244 1.74964351 1.6471661  1.57116315 1.52586903 1.43123476\n",
      " 1.42979652 1.41996656 1.47382947 1.50333798 1.57878149 1.62275247\n",
      " 1.69038195 1.76952846 1.85389992 1.88103841 1.89690493 1.90293464\n",
      " 1.86703749 1.87656919 1.8055266  1.81593851 1.80831113 1.76232591\n",
      " 1.79512444 1.80743867 1.84357583 1.8408176  1.83735988 1.84411445\n",
      " 1.84943006 1.81443144 1.81289749 1.8254006  1.83900673 1.85291359\n",
      " 1.84790135 1.80096989 1.78736682 1.75539042 1.69487824 1.63943466\n",
      " 1.54079494 1.47326844 1.42941051 1.41450279 1.46922665 1.46429727\n",
      " 1.54323328 1.56872121 1.66220744 1.71065523 1.75749106 1.80839443\n",
      " 1.86744362 1.88442112 1.85077756 1.89447009 1.83561876 1.85040083\n",
      " 1.81290472 1.80166529 1.78822019 1.82036812 1.83835533 1.83805831\n",
      " 1.85115048 1.87686683 1.84284342 1.80933565 1.83258464 1.83268488\n",
      " 1.83571542 1.86279963 1.85402424 1.83783253 1.80367984 1.78957\n",
      " 1.76312312 1.73292556]\n",
      "[ 34  37  72  74 112 115]\n"
     ]
    },
    {
     "data": {
      "image/png": "[encoded data removed]",
      "text/plain": [
       "<Figure size 720x720 with 1 Axes>"
      ]
     },
     "metadata": {
      "needs_background": "light"
     },
     "output_type": "display_data"
    }
   ],
   "source": [
    "import matplotlib.pyplot as plt\n",
    "import numpy as np\n",
    "import peakutils\n",
    "\n",
    "\n",
    "\n",
    "# taking summation in displacement\n",
    "x1=np.add(norm1,norm4)\n",
    "x2=np.add(norm2,norm3)\n",
    "# x1=norm1\n",
    "# x2=norm2\n",
    "print(x1)\n",
    "print(x2)\n",
    "y=y_  # Y-axis points\n",
    "# f = plt.figure()\n",
    "# f.set_figwidth(10)\n",
    "# f.set_figheight(10)\n",
    "negx1 = [ -x for x in x1]\n",
    "index1 = peakutils.indexes(negx1,thres=0.7,min_dist=1)\n",
    "negx2 = [ -x for x in x2]\n",
    "index2 = peakutils.indexes(negx2,thres=0.7,min_dist=1)\n",
    "print(index1)\n",
    "plt.figure(figsize=(10,10))\n",
    "plt.plot(x1, y, label = \"line 1\") # yellow left leg\n",
    "plt.plot(x2, y, label = \"line 2\")  # blue right leg\n",
    "frames_left_leg_disp=[]\n",
    "frames_right_leg_disp=[]\n",
    "for ind in index1:\n",
    "    plt.plot(x1[ind],y[ind], marker=\"o\", ls=\"\", ms=10 )\n",
    "    frames_left_leg_disp.append(y[ind])\n",
    "    \n",
    "for ind in index2:\n",
    "    plt.plot(x2[ind],y[ind], marker=\"o\", ls=\"\", ms=10 )\n",
    "    frames_right_leg_disp.append(y[ind])"
   ]
  },
  {
   "cell_type": "markdown",
   "id": "104a7bc6",
   "metadata": {},
   "source": [
    "# using angles and displacement v2\n"
   ]
  },
  {
   "cell_type": "code",
   "execution_count": 113,
   "id": "4abde125",
   "metadata": {
    "ExecuteTime": {
     "end_time": "2022-10-13T17:33:21.448514Z",
     "start_time": "2022-10-13T17:33:21.428511Z"
    }
   },
   "outputs": [],
   "source": [
    "import numpy as np\n",
    "from sklearn.preprocessing import normalize\n",
    "\n",
    "a1 = ankle_angle_list_left\n",
    "a2= body_part_y[20] # for toe\n",
    "a3=body_part_y[21] # for heel\n",
    "# a4=body_part_y[21] #right\n",
    "# print(angle_list_left)\n",
    "norm1 = a1 / np.linalg.norm(a1) *100\n",
    "norm2 = a2 / np.linalg.norm(a2) *500\n",
    "norm3 = a3/ np.linalg.norm(a3) *500\n",
    "# norm4 = a4/ np.linalg.norm(a4) *10\n"
   ]
  },
  {
   "cell_type": "code",
   "execution_count": 106,
   "id": "1d536fb2",
   "metadata": {
    "ExecuteTime": {
     "end_time": "2022-10-13T17:14:26.238967Z",
     "start_time": "2022-10-13T17:14:26.231969Z"
    }
   },
   "outputs": [
    {
     "name": "stdout",
     "output_type": "stream",
     "text": [
      "(278,)\n"
     ]
    }
   ],
   "source": [
    "print(np.shape(norm2))"
   ]
  },
  {
   "cell_type": "code",
   "execution_count": 115,
   "id": "2abdc1d7",
   "metadata": {
    "ExecuteTime": {
     "end_time": "2022-10-13T17:46:47.898627Z",
     "start_time": "2022-10-13T17:46:47.752628Z"
    }
   },
   "outputs": [
    {
     "data": {
      "text/plain": [
       "[<matplotlib.lines.Line2D at 0x1a7a8720250>]"
      ]
     },
     "execution_count": 115,
     "metadata": {},
     "output_type": "execute_result"
    },
    {
     "data": {
      "image/png": "[encoded data removed]",
      "text/plain": [
       "<Figure size 720x720 with 1 Axes>"
      ]
     },
     "metadata": {
      "needs_background": "light"
     },
     "output_type": "display_data"
    }
   ],
   "source": [
    "import matplotlib.pyplot as plt\n",
    "import numpy as np\n",
    "import peakutils\n",
    "\n",
    "\n",
    "\n",
    "# taking summation in displacement\n",
    "x1=np.add(norm1,norm2)\n",
    "x2=np.add(norm1,norm3)\n",
    "# x1=norm1\n",
    "# x2=norm2\n",
    "# print(x1)\n",
    "# print(x2)\n",
    "y=y_  # Y-axis points\n",
    "# f = plt.figure()\n",
    "# f.set_figwidth(10)\n",
    "# f.set_figheight(10)\n",
    "negx1 = [ -x for x in x1]\n",
    "index1 = peakutils.indexes(negx1,thres=0.7,min_dist=1)\n",
    "negx2 = [ -x for x in x2]\n",
    "index2 = peakutils.indexes(negx2,thres=0.7,min_dist=1)\n",
    "# print(index1)\n",
    "plt.figure(figsize=(10,10))\n",
    "plt.plot(x1, y, label = \"line 1\") # yellow is for heel \n",
    "plt.plot(x2, y, label = \"line 2\")  # blue is for toe\n",
    "# frames_left_leg_disp=[]\n",
    "# frames_right_leg_disp=[]\n",
    "# for ind in index1:\n",
    "#     plt.plot(x1[ind],y[ind], marker=\"o\", ls=\"\", ms=10 )\n",
    "#     frames_left_leg_disp.append(y[ind])\n",
    "    \n",
    "# for ind in index2:\n",
    "#     plt.plot(x2[ind],y[ind], marker=\"o\", ls=\"\", ms=10 )\n",
    "#     frames_right_leg_disp.append(y[ind])"
   ]
  },
  {
   "cell_type": "markdown",
   "id": "14b01756",
   "metadata": {},
   "source": [
    "this wont work beacause we are taking vertical distances from left toe and hell y cord and computing it horizontally with angle"
   ]
  }
 ],
 "metadata": {
  "hide_input": false,
  "kernelspec": {
   "display_name": "Python 3 (ipykernel)",
   "language": "python",
   "name": "python3"
  },
  "language_info": {
   "codemirror_mode": {
    "name": "ipython",
    "version": 3
   },
   "file_extension": ".py",
   "mimetype": "text/x-python",
   "name": "python",
   "nbconvert_exporter": "python",
   "pygments_lexer": "ipython3",
   "version": "3.8.13"
  },
  "varInspector": {
   "cols": {
    "lenName": 16,
    "lenType": 16,
    "lenVar": 40
   },
   "kernels_config": {
    "python": {
     "delete_cmd_postfix": "",
     "delete_cmd_prefix": "del ",
     "library": "var_list.py",
     "varRefreshCmd": "print(var_dic_list())"
    },
    "r": {
     "delete_cmd_postfix": ") ",
     "delete_cmd_prefix": "rm(",
     "library": "var_list.r",
     "varRefreshCmd": "cat(var_dic_list()) "
    }
   },
   "position": {
    "height": "76.8333px",
    "left": "1330.67px",
    "right": "20px",
    "top": "120px",
    "width": "356px"
   },
   "types_to_exclude": [
    "module",
    "function",
    "builtin_function_or_method",
    "instance",
    "_Feature"
   ],
   "window_display": false
  }
 },
 "nbformat": 4,
 "nbformat_minor": 5
}

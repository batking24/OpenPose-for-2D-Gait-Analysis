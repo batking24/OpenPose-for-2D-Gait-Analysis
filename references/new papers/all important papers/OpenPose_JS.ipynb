{
  "nbformat": 4,
  "nbformat_minor": 0,
  "metadata": {
    "colab": {
      "name": "OpenPose_JS.ipynb",
      "provenance": [],
      "collapsed_sections": []
    },
    "kernelspec": {
      "name": "python3",
      "display_name": "Python 3"
    },
    "accelerator": "GPU"
  },
  "cells": [
    {
      "cell_type": "markdown",
      "metadata": {
        "id": "-NLcL7pswucy",
        "colab_type": "text"
      },
      "source": [
        "Step 2.1. Start here. Make sure you change the runtime to use the GPU (Runtime->Change runtime type->Python 3 and GPU). This step installs and builds OpenPose and may take several minutes. You only need to run this step upon your initial analysis in Google Colab during each analysis session (i.e., after installing once, you can analyze multiple videos in one session without re-running this step as long as you remain connected to Google Colab). There is no need to edit any of the code until you get to Step 2.3. Click the play button to execute each step."
      ]
    },
    {
      "cell_type": "code",
      "metadata": {
        "id": "M5473Kflgfeu",
        "colab_type": "code",
        "colab": {}
      },
      "source": [
        "#installs OpenPose (do not edit...thank you to OpenPose user miu200521358 for providing this section of the code!)\n",
        "# Install OpenPose\n",
        "! nvcc --version\n",
        "! nvidia-smi\n",
        "ver_openpose = \"v1.6.0\"\n",
        "! cmake --version\n",
        "! wget -c \"https://github.com/Kitware/CMake/releases/download/v3.17.2/cmake-3.17.2.tar.gz\"\n",
        "! tar xf cmake-3.17.2.tar.gz\n",
        "! cd cmake-3.17.2 && ./configure && make && sudo make install\n",
        "# Install libraries\n",
        "# Basic\n",
        "! sudo apt-get --assume-yes update\n",
        "! sudo apt-get --assume-yes install build-essential\n",
        "# OpenCV\n",
        "! sudo apt-get --assume-yes install libopencv-dev\n",
        "# General dependencies\n",
        "! sudo apt-get --assume-yes install libatlas-base-dev libprotobuf-dev libleveldb-dev libsnappy-dev libhdf5-serial-dev protobuf-compiler\n",
        "! sudo apt-get --assume-yes install --no-install-recommends libboost-all-dev\n",
        "# Remaining dependencies, 14.04\n",
        "! sudo apt-get --assume-yes install libgflags-dev libgoogle-glog-dev liblmdb-dev\n",
        "# Python3 libs\n",
        "! sudo apt-get --assume-yes install python3-setuptools python3-dev build-essential\n",
        "! sudo apt-get --assume-yes install python3-pip\n",
        "! sudo -H pip3 install --upgrade numpy protobuf opencv-python\n",
        "# OpenCL Generic\n",
        "! sudo apt-get --assume-yes install opencl-headers ocl-icd-opencl-dev\n",
        "! sudo apt-get --assume-yes install libviennacl-dev\n",
        "# Python dependencies\n",
        "!pip install -q youtube-dl\n",
        "# Clone openpose\n",
        "! git clone  --depth 1 -b \"$ver_openpose\" https://github.com/CMU-Perceptual-Computing-Lab/openpose.git "
      ],
      "execution_count": null,
      "outputs": []
    },
    {
      "cell_type": "code",
      "metadata": {
        "id": "npZPLyMp5ViB",
        "colab_type": "code",
        "colab": {}
      },
      "source": [
        "# Build openpose\n",
        "! cd openpose && mkdir build && cd build\n",
        "! cd openpose/build && cmake ..\n",
        "! cd openpose/build && make -j`nproc`"
      ],
      "execution_count": null,
      "outputs": []
    },
    {
      "cell_type": "markdown",
      "metadata": {
        "id": "i6bMp-JT__MK",
        "colab_type": "text"
      },
      "source": [
        "Step 2.2. This step imports your Google Drive (where you may have stored your input videos). After clicking play, follow the steps prompted below to receive and enter an authorization code. NOTE: if you are using research participant or patient videos, you may need to keep your videos offline to protect PHI. If this is the case, please see the instructions for installing and running OpenPose locally here: https://github.com/CMU-Perceptual-Computing-Lab/openpose"
      ]
    },
    {
      "cell_type": "code",
      "metadata": {
        "id": "lAPHbWFEhO6x",
        "colab_type": "code",
        "colab": {}
      },
      "source": [
        "#imports your google drive (do not edit)\n",
        "from google.colab import drive\n",
        "drive.mount('/content/gdrive')"
      ],
      "execution_count": null,
      "outputs": []
    },
    {
      "cell_type": "markdown",
      "metadata": {
        "id": "AJ05KS615jxp",
        "colab_type": "text"
      },
      "source": [
        "Step 2.3. Run this step only if you need to change the resolution of your video (e.g., your video is being analyzed sideways)."
      ]
    },
    {
      "cell_type": "code",
      "metadata": {
        "id": "_mwZj_3J5q7-",
        "colab_type": "code",
        "colab": {}
      },
      "source": [
        "#changes resolution of the video\n",
        "#edit the two paths that include ***YourVideoName*** (be sure to include the file type (e.g., .avi, .mov) after the video name in both locations)\n",
        "import moviepy.editor as mp\n",
        "clip = mp.VideoFileClip(\"/content/gdrive/My Drive/YourVideoName.filetype\")\n",
        "clip_resized = clip.resize(newsize=(1080,1920))\n",
        "clip_resized.write_videofile(\"/content/gdrive/My Drive/YourVideoName_resized.filetype\")"
      ],
      "execution_count": null,
      "outputs": []
    },
    {
      "cell_type": "markdown",
      "metadata": {
        "id": "1DaW7ihTwZAC",
        "colab_type": "text"
      },
      "source": [
        "Step 2.4. Make sure that the video you want to analyze is in your Google Drive (or use YouTube video in Step 2.5 below). You can also edit the JSON and video output paths if you plan to analyze videos for different participants in a single analysis session (the default path is your main Google Drive folder).\n",
        "\n",
        "Be sure to edit both placeholders in the line of code below that include YourVideoName.filetype."
      ]
    },
    {
      "cell_type": "code",
      "metadata": {
        "id": "OowrJ3irmk7U",
        "colab_type": "code",
        "colab": {}
      },
      "source": [
        "#analyzes video stored in Google Drive with OpenPose\n",
        "#edit the two paths that include ***YourVideoName*** (be sure to include the file type (e.g., .avi, .mp4, .MOV) after the video name in both locations)\n",
        "!cd openpose && ./build/examples/openpose/openpose.bin --video /content/gdrive/My\\ Drive/***YourVideoName.filetype*** --number_people_max 1 --write_json /content/gdrive/My\\ Drive/ --display 0 --write_video /content/gdrive/My\\ Drive/***YourVideoName_labeled.filetype***"
      ],
      "execution_count": null,
      "outputs": []
    },
    {
      "cell_type": "markdown",
      "metadata": {
        "id": "Va7MuuZMQr4s",
        "colab_type": "text"
      },
      "source": [
        "Step 2.5. Only run this step if you are analyzing a YouTube video. Again, be sure to edit both the YourVideoName and YourVideoURL placeholders."
      ]
    },
    {
      "cell_type": "code",
      "metadata": {
        "id": "mMuSKxizxWlD",
        "colab_type": "code",
        "colab": {}
      },
      "source": [
        "#only run this step if you want to use a YouTube video\n",
        "#edit YourVideoName and YouTube link \n",
        "from IPython.display import YouTubeVideo\n",
        "#downloads the youtube with the given ID\n",
        "!youtube-dl -f 'bestvideo[ext=mp4]' --output \"/content/openpose/YourVideoName\" https://www.youtube.com/YourVideoURL"
      ],
      "execution_count": null,
      "outputs": []
    },
    {
      "cell_type": "markdown",
      "metadata": {
        "id": "RSAWG0b6_Hu7",
        "colab_type": "text"
      },
      "source": [
        "Step 2.6. If OpenPose ran successfully, you should find your JSON output files and output video(s) with the keypoints labeled in the OpenPose folder on your Google Drive. Download the JSON files and labeled video file from your Google Drive and proceed to the offline processing steps. If you are unable to view your output video, try changing the file type of your output video (e.g., try YourVideoName_labeled.mp4 instead of YourVideoName_labeled.avi) or try using a different video player."
      ]
    }
  ]
}